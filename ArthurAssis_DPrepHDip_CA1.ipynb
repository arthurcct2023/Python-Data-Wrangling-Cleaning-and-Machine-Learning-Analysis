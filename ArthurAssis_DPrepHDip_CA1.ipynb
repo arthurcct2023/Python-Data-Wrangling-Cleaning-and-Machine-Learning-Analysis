{
 "cells": [
  {
   "cell_type": "markdown",
   "id": "fe98a2b0",
   "metadata": {},
   "source": [
    "# 1- INTRODUCTION"
   ]
  },
  {
   "cell_type": "markdown",
   "id": "38d72348",
   "metadata": {},
   "source": [
    "<div style=\"text-align: justify\">The dataset explored in this assignment presents observations from a haulage company regarding to fails on the APS system and other systems of trucks. The scenario that will be studied is presented below:</div>\n",
    "\n",
    "#### Scenario:\n",
    "\n",
    "<div style=\"text-align: justify\">You have been retained by a haulage company to analyse a dataset based on data collected from heavy Scania trucks in everyday usage. The system in focus is the Air Pressure system (APS) which generates pressurised air that are utilized in various functions in a truck, such as braking and gear changes. The dataset’s  positive class consists of component failures for a specific component of the APS system.  The negative class consists of trucks with failures for components not related to the APS. The data consists  of a subset of all available data, selected by experts. This analysis will help determine the investment strategy for the company in the upcoming year.<br>\n",
    "\n",
    "This project will focus in discovering how many features are necessary to retain 99.5% of information of the dataset using different approaches, applying PCA to reduce the number of features and creating a predictive model that tries to identify whether a fail was occasioned by APS system or not.<br>\n",
    "\n",
    "Different strategies will be applied aiming to get the best answer from the dataset. A function that inputs different criteria to change strategies will be created by the end easing the process of attempting to get better results. </div>"
   ]
  },
  {
   "cell_type": "markdown",
   "id": "82e75462",
   "metadata": {},
   "source": [
    "# 2- IMPORTING ALL THE LIBRARIES"
   ]
  },
  {
   "cell_type": "markdown",
   "id": "821e5a27",
   "metadata": {},
   "source": [
    "<div style=\"text-align: justify\">To facilitate understanding of the coding and keep it as neat as possible, all the libraries are imported by the beginning, independently of exactly where on the code it will be used.</div>"
   ]
  },
  {
   "cell_type": "code",
   "execution_count": 1,
   "id": "92169c09",
   "metadata": {},
   "outputs": [],
   "source": [
    "import pandas as pd\n",
    "import numpy as np\n",
    "import seaborn as sns\n",
    "import matplotlib.pyplot as plt\n",
    "from scipy.stats import shapiro\n",
    "from scipy.stats import kstest\n",
    "from sklearn.preprocessing import StandardScaler"
   ]
  },
  {
   "cell_type": "code",
   "execution_count": 2,
   "id": "3ff927d8",
   "metadata": {},
   "outputs": [],
   "source": [
    "from sklearn.model_selection import train_test_split\n",
    "from sklearn.metrics import accuracy_score, confusion_matrix, recall_score\n",
    "import warnings\n",
    "warnings.filterwarnings('ignore') # We can suppress the warnings"
   ]
  },
  {
   "cell_type": "code",
   "execution_count": 3,
   "id": "6cb45ee1",
   "metadata": {},
   "outputs": [],
   "source": [
    "from sklearn.decomposition import PCA"
   ]
  },
  {
   "cell_type": "code",
   "execution_count": 4,
   "id": "5a07cb29",
   "metadata": {},
   "outputs": [],
   "source": [
    "from collections import Counter\n",
    "from sklearn.datasets import make_classification\n",
    "from imblearn.over_sampling import SMOTE # doctest: +NORMALIZE_WHITESPAC"
   ]
  },
  {
   "cell_type": "code",
   "execution_count": 5,
   "id": "ecca5da9",
   "metadata": {},
   "outputs": [],
   "source": [
    "from matplotlib import pyplot\n",
    "from sklearn.model_selection import train_test_split\n",
    "from sklearn.model_selection import cross_val_score\n",
    "from sklearn.model_selection import StratifiedKFold\n",
    "from sklearn.linear_model import LogisticRegression\n",
    "from sklearn.tree import DecisionTreeClassifier\n",
    "from sklearn.neighbors import KNeighborsClassifier\n",
    "from sklearn.discriminant_analysis import LinearDiscriminantAnalysis\n",
    "from sklearn.naive_bayes import GaussianNB\n",
    "from sklearn.metrics import classification_report\n",
    "from sklearn.metrics import confusion_matrix\n",
    "from sklearn.metrics import accuracy_score\n",
    "from sklearn.svm import SVC\n",
    "from imblearn.over_sampling import SMOTE "
   ]
  },
  {
   "cell_type": "markdown",
   "id": "a5e2e83c",
   "metadata": {},
   "source": [
    "# 3- READING THE DATASET AND APPLYING EXPLORATORY DATA ANALYSIS"
   ]
  },
  {
   "cell_type": "markdown",
   "id": "151026bd",
   "metadata": {},
   "source": [
    "The first step is reading the dataset and starting looking to it aiming to understand general ideas and patterns within the dataset."
   ]
  },
  {
   "cell_type": "code",
   "execution_count": 6,
   "id": "b23f977c",
   "metadata": {},
   "outputs": [],
   "source": [
    "df = pd.read_csv('aps_failure_set.csv')"
   ]
  },
  {
   "cell_type": "code",
   "execution_count": 7,
   "id": "0498b84f",
   "metadata": {
    "scrolled": true
   },
   "outputs": [
    {
     "data": {
      "text/html": [
       "<div>\n",
       "<style scoped>\n",
       "    .dataframe tbody tr th:only-of-type {\n",
       "        vertical-align: middle;\n",
       "    }\n",
       "\n",
       "    .dataframe tbody tr th {\n",
       "        vertical-align: top;\n",
       "    }\n",
       "\n",
       "    .dataframe thead th {\n",
       "        text-align: right;\n",
       "    }\n",
       "</style>\n",
       "<table border=\"1\" class=\"dataframe\">\n",
       "  <thead>\n",
       "    <tr style=\"text-align: right;\">\n",
       "      <th></th>\n",
       "      <th>class</th>\n",
       "      <th>aa_000</th>\n",
       "      <th>ab_000</th>\n",
       "      <th>ac_000</th>\n",
       "      <th>ad_000</th>\n",
       "      <th>ae_000</th>\n",
       "      <th>af_000</th>\n",
       "      <th>ag_000</th>\n",
       "      <th>ag_001</th>\n",
       "      <th>ag_002</th>\n",
       "      <th>...</th>\n",
       "      <th>ee_002</th>\n",
       "      <th>ee_003</th>\n",
       "      <th>ee_004</th>\n",
       "      <th>ee_005</th>\n",
       "      <th>ee_006</th>\n",
       "      <th>ee_007</th>\n",
       "      <th>ee_008</th>\n",
       "      <th>ee_009</th>\n",
       "      <th>ef_000</th>\n",
       "      <th>eg_000</th>\n",
       "    </tr>\n",
       "  </thead>\n",
       "  <tbody>\n",
       "    <tr>\n",
       "      <th>0</th>\n",
       "      <td>neg</td>\n",
       "      <td>76698</td>\n",
       "      <td>na</td>\n",
       "      <td>2130706438</td>\n",
       "      <td>280</td>\n",
       "      <td>0</td>\n",
       "      <td>0</td>\n",
       "      <td>0</td>\n",
       "      <td>0</td>\n",
       "      <td>0</td>\n",
       "      <td>...</td>\n",
       "      <td>1240520</td>\n",
       "      <td>493384</td>\n",
       "      <td>721044</td>\n",
       "      <td>469792</td>\n",
       "      <td>339156</td>\n",
       "      <td>157956</td>\n",
       "      <td>73224</td>\n",
       "      <td>0</td>\n",
       "      <td>0</td>\n",
       "      <td>0</td>\n",
       "    </tr>\n",
       "    <tr>\n",
       "      <th>1</th>\n",
       "      <td>neg</td>\n",
       "      <td>33058</td>\n",
       "      <td>na</td>\n",
       "      <td>0</td>\n",
       "      <td>na</td>\n",
       "      <td>0</td>\n",
       "      <td>0</td>\n",
       "      <td>0</td>\n",
       "      <td>0</td>\n",
       "      <td>0</td>\n",
       "      <td>...</td>\n",
       "      <td>421400</td>\n",
       "      <td>178064</td>\n",
       "      <td>293306</td>\n",
       "      <td>245416</td>\n",
       "      <td>133654</td>\n",
       "      <td>81140</td>\n",
       "      <td>97576</td>\n",
       "      <td>1500</td>\n",
       "      <td>0</td>\n",
       "      <td>0</td>\n",
       "    </tr>\n",
       "    <tr>\n",
       "      <th>2</th>\n",
       "      <td>neg</td>\n",
       "      <td>41040</td>\n",
       "      <td>na</td>\n",
       "      <td>228</td>\n",
       "      <td>100</td>\n",
       "      <td>0</td>\n",
       "      <td>0</td>\n",
       "      <td>0</td>\n",
       "      <td>0</td>\n",
       "      <td>0</td>\n",
       "      <td>...</td>\n",
       "      <td>277378</td>\n",
       "      <td>159812</td>\n",
       "      <td>423992</td>\n",
       "      <td>409564</td>\n",
       "      <td>320746</td>\n",
       "      <td>158022</td>\n",
       "      <td>95128</td>\n",
       "      <td>514</td>\n",
       "      <td>0</td>\n",
       "      <td>0</td>\n",
       "    </tr>\n",
       "    <tr>\n",
       "      <th>3</th>\n",
       "      <td>neg</td>\n",
       "      <td>12</td>\n",
       "      <td>0</td>\n",
       "      <td>70</td>\n",
       "      <td>66</td>\n",
       "      <td>0</td>\n",
       "      <td>10</td>\n",
       "      <td>0</td>\n",
       "      <td>0</td>\n",
       "      <td>0</td>\n",
       "      <td>...</td>\n",
       "      <td>240</td>\n",
       "      <td>46</td>\n",
       "      <td>58</td>\n",
       "      <td>44</td>\n",
       "      <td>10</td>\n",
       "      <td>0</td>\n",
       "      <td>0</td>\n",
       "      <td>0</td>\n",
       "      <td>4</td>\n",
       "      <td>32</td>\n",
       "    </tr>\n",
       "    <tr>\n",
       "      <th>4</th>\n",
       "      <td>neg</td>\n",
       "      <td>60874</td>\n",
       "      <td>na</td>\n",
       "      <td>1368</td>\n",
       "      <td>458</td>\n",
       "      <td>0</td>\n",
       "      <td>0</td>\n",
       "      <td>0</td>\n",
       "      <td>0</td>\n",
       "      <td>0</td>\n",
       "      <td>...</td>\n",
       "      <td>622012</td>\n",
       "      <td>229790</td>\n",
       "      <td>405298</td>\n",
       "      <td>347188</td>\n",
       "      <td>286954</td>\n",
       "      <td>311560</td>\n",
       "      <td>433954</td>\n",
       "      <td>1218</td>\n",
       "      <td>0</td>\n",
       "      <td>0</td>\n",
       "    </tr>\n",
       "  </tbody>\n",
       "</table>\n",
       "<p>5 rows × 171 columns</p>\n",
       "</div>"
      ],
      "text/plain": [
       "  class  aa_000 ab_000      ac_000 ad_000 ae_000 af_000 ag_000 ag_001 ag_002  \\\n",
       "0   neg   76698     na  2130706438    280      0      0      0      0      0   \n",
       "1   neg   33058     na           0     na      0      0      0      0      0   \n",
       "2   neg   41040     na         228    100      0      0      0      0      0   \n",
       "3   neg      12      0          70     66      0     10      0      0      0   \n",
       "4   neg   60874     na        1368    458      0      0      0      0      0   \n",
       "\n",
       "   ...   ee_002  ee_003  ee_004  ee_005  ee_006  ee_007  ee_008 ee_009 ef_000  \\\n",
       "0  ...  1240520  493384  721044  469792  339156  157956   73224      0      0   \n",
       "1  ...   421400  178064  293306  245416  133654   81140   97576   1500      0   \n",
       "2  ...   277378  159812  423992  409564  320746  158022   95128    514      0   \n",
       "3  ...      240      46      58      44      10       0       0      0      4   \n",
       "4  ...   622012  229790  405298  347188  286954  311560  433954   1218      0   \n",
       "\n",
       "  eg_000  \n",
       "0      0  \n",
       "1      0  \n",
       "2      0  \n",
       "3     32  \n",
       "4      0  \n",
       "\n",
       "[5 rows x 171 columns]"
      ]
     },
     "execution_count": 7,
     "metadata": {},
     "output_type": "execute_result"
    }
   ],
   "source": [
    "#Visualizing the dataset to identify preliminarily features\n",
    "\n",
    "df.head()"
   ]
  },
  {
   "cell_type": "code",
   "execution_count": 8,
   "id": "286681ba",
   "metadata": {
    "scrolled": true
   },
   "outputs": [
    {
     "name": "stdout",
     "output_type": "stream",
     "text": [
      "<class 'pandas.core.frame.DataFrame'>\n",
      "RangeIndex: 60000 entries, 0 to 59999\n",
      "Columns: 171 entries, class to eg_000\n",
      "dtypes: int64(1), object(170)\n",
      "memory usage: 78.3+ MB\n"
     ]
    }
   ],
   "source": [
    "df.info()"
   ]
  },
  {
   "cell_type": "code",
   "execution_count": 9,
   "id": "d94cd448",
   "metadata": {},
   "outputs": [
    {
     "data": {
      "text/plain": [
       "neg    59000\n",
       "pos     1000\n",
       "Name: class, dtype: int64"
      ]
     },
     "execution_count": 9,
     "metadata": {},
     "output_type": "execute_result"
    }
   ],
   "source": [
    "df['class'].value_counts()"
   ]
  },
  {
   "cell_type": "markdown",
   "id": "87ce9272",
   "metadata": {},
   "source": [
    "<div style=\"text-align: justify\">The dataset is composed by 60000 observations and 171 features. The first column of the dataset is named 'class', and it is composed only by categorical values. As it was described on the scenario, it contains information of whether a fail was originated from the APS system or not. The second column straight after 'class' is named 'aa_000', and names of columns go unti 'eg_000' through a logic on which sometimes the same group of letters has differents numbers, for instance 'ee_002, 'ee_003', and so on, and sometimes the string has only number 000.<br>\n",
    "\n",
    "It is possible to identify that 'class' has 59000 negative observations and 1000 positive observations, what classifies the dataset as highly unbalanced. Therefore is expected that a method to undersampling of oversampling will be necessary to apply machine learning methods on the dataset.<br>\n",
    "\n",
    "At first sight, it seams that in exception of 'class', all the columns are composed by numeric values. Nevertheless, the function info() returned the information that the dataset is completely composed by categorical variables, exept one feature.<br>\n",
    "\n",
    "This is ocasioned by mix of variables in the dataset. It is possible to identify immediatly that some columns contain the string \"na\" amid numerical values, this is responsible to transform this specific column in an object to the coding. While it is possible to just force every column to numerical values and coerce errors, what would transform them into Missing Values, it is necessary first to check if there is any other value that might be important to the understanding of the dataset.<br>\n",
    "\n",
    "Firstly, as the scenario did not describe any importance regarding name of columns, its names will be changed removing the string '_0' so they can look more neat, and can be called easier in case needed.<br>\n",
    "\n",
    "The next step is creating a function that tries to transform values in float and in case it is unable to do it, in other words, if the function receives an error, it returns this value. This function was addapted from a function suggested by Martin (2021), and it will be used in this project. This function will be put into a loop to try every single value in the dataset out of the column 'class', and an array will be used to store all the values that can not be converted to numeric in the dataset. </div>"
   ]
  },
  {
   "cell_type": "code",
   "execution_count": 10,
   "id": "991ba65e",
   "metadata": {},
   "outputs": [],
   "source": [
    "df.columns = df.columns.str.replace('_0', '')"
   ]
  },
  {
   "cell_type": "code",
   "execution_count": 11,
   "id": "4e6c6a59",
   "metadata": {},
   "outputs": [],
   "source": [
    "#This function was addapted from a function presented in the following link.\n",
    "#https://drawingfromdata.com/pandas/dtypes/finding-invalid-values-in-numerical-columns.html\n",
    "\n",
    "def check_float(value):\n",
    "    try:\n",
    "        float(value)\n",
    "        return\n",
    "    except ValueError:\n",
    "        return value"
   ]
  },
  {
   "cell_type": "code",
   "execution_count": 12,
   "id": "35698c7d",
   "metadata": {},
   "outputs": [],
   "source": [
    "#https://www.datacamp.com/tutorial/loops-python-tutorial?utm_source=google&utm_medium=paid_search&utm_campaignid=19589720818&utm_adgroupid=143216588777&utm_device=c&utm_keyword=&utm_matchtype=&utm_network=g&utm_adpostion=&utm_creative=652967469589&utm_targetid=dsa-1947282172981&utm_loc_interest_ms=&utm_loc_physical_ms=1007850&utm_content=dsa~page~community-tuto&utm_campaign=230119_1-sea~dsa~tutorials_2-b2c_3-n-eu_4-prc_5-na_6-na_7-le_8-pdsh-go_9-na_10-na_11-na&gclid=CjwKCAjw8-OhBhB5EiwADyoY1VTAgGVq3ULs6geWaBi99vsu_wYe3AEah79xolw_76eNOZsTIOCu5BoCboMQAvD_BwE\n",
    "\n",
    "missingvalues = []\n",
    "for column in df.iloc[:, 1:]:\n",
    "    a = df[column].apply(check_float).unique()\n",
    "    missingvalues = np.append(missingvalues, a)"
   ]
  },
  {
   "cell_type": "code",
   "execution_count": 13,
   "id": "50e031ca",
   "metadata": {},
   "outputs": [
    {
     "data": {
      "text/plain": [
       "array([None, 'na'], dtype=object)"
      ]
     },
     "execution_count": 13,
     "metadata": {},
     "output_type": "execute_result"
    }
   ],
   "source": [
    "missingvalues = pd.DataFrame(missingvalues)\n",
    "missingvalues.iloc[:, 0].unique()"
   ]
  },
  {
   "cell_type": "markdown",
   "id": "1e16c42c",
   "metadata": {},
   "source": [
    "<div style=\"text-align: justify\">It is possible to verify that only values None and 'na' are among the dataset, therefore we identify that there are no important values to be analysed on missing data. Hence, we can apply the method to transform numeric columns into integers and coerce errors. The code below is used with this function, according to Stack Overflow. (n.d.).</div>"
   ]
  },
  {
   "cell_type": "code",
   "execution_count": 14,
   "id": "87c002ba",
   "metadata": {},
   "outputs": [],
   "source": [
    "cols = df.columns.drop('class')\n",
    "df[cols] = df[cols].apply(pd.to_numeric, errors = 'coerce')"
   ]
  },
  {
   "cell_type": "markdown",
   "id": "f20450df",
   "metadata": {},
   "source": [
    "<div style=\"text-align: justify\">After the dataset has been converted entirely to numerical, it is necessary to analyse how much data is missing this dataset, and start making decisions about these missing data.</div>"
   ]
  },
  {
   "cell_type": "code",
   "execution_count": 15,
   "id": "8dd43f56",
   "metadata": {
    "scrolled": true
   },
   "outputs": [
    {
     "data": {
      "text/html": [
       "<div>\n",
       "<style scoped>\n",
       "    .dataframe tbody tr th:only-of-type {\n",
       "        vertical-align: middle;\n",
       "    }\n",
       "\n",
       "    .dataframe tbody tr th {\n",
       "        vertical-align: top;\n",
       "    }\n",
       "\n",
       "    .dataframe thead th {\n",
       "        text-align: right;\n",
       "    }\n",
       "</style>\n",
       "<table border=\"1\" class=\"dataframe\">\n",
       "  <thead>\n",
       "    <tr style=\"text-align: right;\">\n",
       "      <th></th>\n",
       "      <th>aa00</th>\n",
       "      <th>ab00</th>\n",
       "      <th>ac00</th>\n",
       "      <th>ad00</th>\n",
       "      <th>ae00</th>\n",
       "      <th>af00</th>\n",
       "      <th>ag00</th>\n",
       "      <th>ag01</th>\n",
       "      <th>ag02</th>\n",
       "      <th>ag03</th>\n",
       "      <th>...</th>\n",
       "      <th>ee02</th>\n",
       "      <th>ee03</th>\n",
       "      <th>ee04</th>\n",
       "      <th>ee05</th>\n",
       "      <th>ee06</th>\n",
       "      <th>ee07</th>\n",
       "      <th>ee08</th>\n",
       "      <th>ee09</th>\n",
       "      <th>ef00</th>\n",
       "      <th>eg00</th>\n",
       "    </tr>\n",
       "  </thead>\n",
       "  <tbody>\n",
       "    <tr>\n",
       "      <th>count</th>\n",
       "      <td>6.000000e+04</td>\n",
       "      <td>13671.000000</td>\n",
       "      <td>5.666500e+04</td>\n",
       "      <td>4.513900e+04</td>\n",
       "      <td>57500.000000</td>\n",
       "      <td>57500.000000</td>\n",
       "      <td>5.932900e+04</td>\n",
       "      <td>5.932900e+04</td>\n",
       "      <td>5.932900e+04</td>\n",
       "      <td>5.932900e+04</td>\n",
       "      <td>...</td>\n",
       "      <td>5.932900e+04</td>\n",
       "      <td>5.932900e+04</td>\n",
       "      <td>5.932900e+04</td>\n",
       "      <td>5.932900e+04</td>\n",
       "      <td>5.932900e+04</td>\n",
       "      <td>5.932900e+04</td>\n",
       "      <td>5.932900e+04</td>\n",
       "      <td>5.932900e+04</td>\n",
       "      <td>57276.000000</td>\n",
       "      <td>57277.000000</td>\n",
       "    </tr>\n",
       "    <tr>\n",
       "      <th>mean</th>\n",
       "      <td>5.933650e+04</td>\n",
       "      <td>0.713189</td>\n",
       "      <td>3.560143e+08</td>\n",
       "      <td>1.906206e+05</td>\n",
       "      <td>6.819130</td>\n",
       "      <td>11.006817</td>\n",
       "      <td>2.216364e+02</td>\n",
       "      <td>9.757223e+02</td>\n",
       "      <td>8.606015e+03</td>\n",
       "      <td>8.859128e+04</td>\n",
       "      <td>...</td>\n",
       "      <td>4.454897e+05</td>\n",
       "      <td>2.111264e+05</td>\n",
       "      <td>4.457343e+05</td>\n",
       "      <td>3.939462e+05</td>\n",
       "      <td>3.330582e+05</td>\n",
       "      <td>3.462714e+05</td>\n",
       "      <td>1.387300e+05</td>\n",
       "      <td>8.388915e+03</td>\n",
       "      <td>0.090579</td>\n",
       "      <td>0.212756</td>\n",
       "    </tr>\n",
       "    <tr>\n",
       "      <th>std</th>\n",
       "      <td>1.454301e+05</td>\n",
       "      <td>3.478962</td>\n",
       "      <td>7.948749e+08</td>\n",
       "      <td>4.040441e+07</td>\n",
       "      <td>161.543373</td>\n",
       "      <td>209.792592</td>\n",
       "      <td>2.047846e+04</td>\n",
       "      <td>3.420053e+04</td>\n",
       "      <td>1.503220e+05</td>\n",
       "      <td>7.617312e+05</td>\n",
       "      <td>...</td>\n",
       "      <td>1.155540e+06</td>\n",
       "      <td>5.433188e+05</td>\n",
       "      <td>1.168314e+06</td>\n",
       "      <td>1.121044e+06</td>\n",
       "      <td>1.069160e+06</td>\n",
       "      <td>1.728056e+06</td>\n",
       "      <td>4.495100e+05</td>\n",
       "      <td>4.747043e+04</td>\n",
       "      <td>4.368855</td>\n",
       "      <td>8.830641</td>\n",
       "    </tr>\n",
       "    <tr>\n",
       "      <th>min</th>\n",
       "      <td>0.000000e+00</td>\n",
       "      <td>0.000000</td>\n",
       "      <td>0.000000e+00</td>\n",
       "      <td>0.000000e+00</td>\n",
       "      <td>0.000000</td>\n",
       "      <td>0.000000</td>\n",
       "      <td>0.000000e+00</td>\n",
       "      <td>0.000000e+00</td>\n",
       "      <td>0.000000e+00</td>\n",
       "      <td>0.000000e+00</td>\n",
       "      <td>...</td>\n",
       "      <td>0.000000e+00</td>\n",
       "      <td>0.000000e+00</td>\n",
       "      <td>0.000000e+00</td>\n",
       "      <td>0.000000e+00</td>\n",
       "      <td>0.000000e+00</td>\n",
       "      <td>0.000000e+00</td>\n",
       "      <td>0.000000e+00</td>\n",
       "      <td>0.000000e+00</td>\n",
       "      <td>0.000000</td>\n",
       "      <td>0.000000</td>\n",
       "    </tr>\n",
       "    <tr>\n",
       "      <th>25%</th>\n",
       "      <td>8.340000e+02</td>\n",
       "      <td>0.000000</td>\n",
       "      <td>1.600000e+01</td>\n",
       "      <td>2.400000e+01</td>\n",
       "      <td>0.000000</td>\n",
       "      <td>0.000000</td>\n",
       "      <td>0.000000e+00</td>\n",
       "      <td>0.000000e+00</td>\n",
       "      <td>0.000000e+00</td>\n",
       "      <td>0.000000e+00</td>\n",
       "      <td>...</td>\n",
       "      <td>2.936000e+03</td>\n",
       "      <td>1.166000e+03</td>\n",
       "      <td>2.700000e+03</td>\n",
       "      <td>3.584000e+03</td>\n",
       "      <td>5.120000e+02</td>\n",
       "      <td>1.100000e+02</td>\n",
       "      <td>0.000000e+00</td>\n",
       "      <td>0.000000e+00</td>\n",
       "      <td>0.000000</td>\n",
       "      <td>0.000000</td>\n",
       "    </tr>\n",
       "    <tr>\n",
       "      <th>50%</th>\n",
       "      <td>3.077600e+04</td>\n",
       "      <td>0.000000</td>\n",
       "      <td>1.520000e+02</td>\n",
       "      <td>1.260000e+02</td>\n",
       "      <td>0.000000</td>\n",
       "      <td>0.000000</td>\n",
       "      <td>0.000000e+00</td>\n",
       "      <td>0.000000e+00</td>\n",
       "      <td>0.000000e+00</td>\n",
       "      <td>0.000000e+00</td>\n",
       "      <td>...</td>\n",
       "      <td>2.337960e+05</td>\n",
       "      <td>1.120860e+05</td>\n",
       "      <td>2.215180e+05</td>\n",
       "      <td>1.899880e+05</td>\n",
       "      <td>9.243200e+04</td>\n",
       "      <td>4.109800e+04</td>\n",
       "      <td>3.812000e+03</td>\n",
       "      <td>0.000000e+00</td>\n",
       "      <td>0.000000</td>\n",
       "      <td>0.000000</td>\n",
       "    </tr>\n",
       "    <tr>\n",
       "      <th>75%</th>\n",
       "      <td>4.866800e+04</td>\n",
       "      <td>0.000000</td>\n",
       "      <td>9.640000e+02</td>\n",
       "      <td>4.300000e+02</td>\n",
       "      <td>0.000000</td>\n",
       "      <td>0.000000</td>\n",
       "      <td>0.000000e+00</td>\n",
       "      <td>0.000000e+00</td>\n",
       "      <td>0.000000e+00</td>\n",
       "      <td>0.000000e+00</td>\n",
       "      <td>...</td>\n",
       "      <td>4.383960e+05</td>\n",
       "      <td>2.182320e+05</td>\n",
       "      <td>4.666140e+05</td>\n",
       "      <td>4.032220e+05</td>\n",
       "      <td>2.750940e+05</td>\n",
       "      <td>1.678140e+05</td>\n",
       "      <td>1.397240e+05</td>\n",
       "      <td>2.028000e+03</td>\n",
       "      <td>0.000000</td>\n",
       "      <td>0.000000</td>\n",
       "    </tr>\n",
       "    <tr>\n",
       "      <th>max</th>\n",
       "      <td>2.746564e+06</td>\n",
       "      <td>204.000000</td>\n",
       "      <td>2.130707e+09</td>\n",
       "      <td>8.584298e+09</td>\n",
       "      <td>21050.000000</td>\n",
       "      <td>20070.000000</td>\n",
       "      <td>3.376892e+06</td>\n",
       "      <td>4.109372e+06</td>\n",
       "      <td>1.055286e+07</td>\n",
       "      <td>6.340207e+07</td>\n",
       "      <td>...</td>\n",
       "      <td>7.793393e+07</td>\n",
       "      <td>3.775839e+07</td>\n",
       "      <td>9.715238e+07</td>\n",
       "      <td>5.743524e+07</td>\n",
       "      <td>3.160781e+07</td>\n",
       "      <td>1.195801e+08</td>\n",
       "      <td>1.926740e+07</td>\n",
       "      <td>3.810078e+06</td>\n",
       "      <td>482.000000</td>\n",
       "      <td>1146.000000</td>\n",
       "    </tr>\n",
       "  </tbody>\n",
       "</table>\n",
       "<p>8 rows × 170 columns</p>\n",
       "</div>"
      ],
      "text/plain": [
       "               aa00          ab00          ac00          ad00          ae00  \\\n",
       "count  6.000000e+04  13671.000000  5.666500e+04  4.513900e+04  57500.000000   \n",
       "mean   5.933650e+04      0.713189  3.560143e+08  1.906206e+05      6.819130   \n",
       "std    1.454301e+05      3.478962  7.948749e+08  4.040441e+07    161.543373   \n",
       "min    0.000000e+00      0.000000  0.000000e+00  0.000000e+00      0.000000   \n",
       "25%    8.340000e+02      0.000000  1.600000e+01  2.400000e+01      0.000000   \n",
       "50%    3.077600e+04      0.000000  1.520000e+02  1.260000e+02      0.000000   \n",
       "75%    4.866800e+04      0.000000  9.640000e+02  4.300000e+02      0.000000   \n",
       "max    2.746564e+06    204.000000  2.130707e+09  8.584298e+09  21050.000000   \n",
       "\n",
       "               af00          ag00          ag01          ag02          ag03  \\\n",
       "count  57500.000000  5.932900e+04  5.932900e+04  5.932900e+04  5.932900e+04   \n",
       "mean      11.006817  2.216364e+02  9.757223e+02  8.606015e+03  8.859128e+04   \n",
       "std      209.792592  2.047846e+04  3.420053e+04  1.503220e+05  7.617312e+05   \n",
       "min        0.000000  0.000000e+00  0.000000e+00  0.000000e+00  0.000000e+00   \n",
       "25%        0.000000  0.000000e+00  0.000000e+00  0.000000e+00  0.000000e+00   \n",
       "50%        0.000000  0.000000e+00  0.000000e+00  0.000000e+00  0.000000e+00   \n",
       "75%        0.000000  0.000000e+00  0.000000e+00  0.000000e+00  0.000000e+00   \n",
       "max    20070.000000  3.376892e+06  4.109372e+06  1.055286e+07  6.340207e+07   \n",
       "\n",
       "       ...          ee02          ee03          ee04          ee05  \\\n",
       "count  ...  5.932900e+04  5.932900e+04  5.932900e+04  5.932900e+04   \n",
       "mean   ...  4.454897e+05  2.111264e+05  4.457343e+05  3.939462e+05   \n",
       "std    ...  1.155540e+06  5.433188e+05  1.168314e+06  1.121044e+06   \n",
       "min    ...  0.000000e+00  0.000000e+00  0.000000e+00  0.000000e+00   \n",
       "25%    ...  2.936000e+03  1.166000e+03  2.700000e+03  3.584000e+03   \n",
       "50%    ...  2.337960e+05  1.120860e+05  2.215180e+05  1.899880e+05   \n",
       "75%    ...  4.383960e+05  2.182320e+05  4.666140e+05  4.032220e+05   \n",
       "max    ...  7.793393e+07  3.775839e+07  9.715238e+07  5.743524e+07   \n",
       "\n",
       "               ee06          ee07          ee08          ee09          ef00  \\\n",
       "count  5.932900e+04  5.932900e+04  5.932900e+04  5.932900e+04  57276.000000   \n",
       "mean   3.330582e+05  3.462714e+05  1.387300e+05  8.388915e+03      0.090579   \n",
       "std    1.069160e+06  1.728056e+06  4.495100e+05  4.747043e+04      4.368855   \n",
       "min    0.000000e+00  0.000000e+00  0.000000e+00  0.000000e+00      0.000000   \n",
       "25%    5.120000e+02  1.100000e+02  0.000000e+00  0.000000e+00      0.000000   \n",
       "50%    9.243200e+04  4.109800e+04  3.812000e+03  0.000000e+00      0.000000   \n",
       "75%    2.750940e+05  1.678140e+05  1.397240e+05  2.028000e+03      0.000000   \n",
       "max    3.160781e+07  1.195801e+08  1.926740e+07  3.810078e+06    482.000000   \n",
       "\n",
       "               eg00  \n",
       "count  57277.000000  \n",
       "mean       0.212756  \n",
       "std        8.830641  \n",
       "min        0.000000  \n",
       "25%        0.000000  \n",
       "50%        0.000000  \n",
       "75%        0.000000  \n",
       "max     1146.000000  \n",
       "\n",
       "[8 rows x 170 columns]"
      ]
     },
     "execution_count": 15,
     "metadata": {},
     "output_type": "execute_result"
    }
   ],
   "source": [
    "df.describe()"
   ]
  },
  {
   "cell_type": "code",
   "execution_count": 16,
   "id": "2811d0aa",
   "metadata": {},
   "outputs": [],
   "source": [
    "nullvalues = df.isnull().sum().reset_index(name = 'counting')"
   ]
  },
  {
   "cell_type": "code",
   "execution_count": 17,
   "id": "0eac5a8d",
   "metadata": {},
   "outputs": [],
   "source": [
    "nullvalues['percentages'] = nullvalues['counting']/len(df['class'])"
   ]
  },
  {
   "cell_type": "code",
   "execution_count": 18,
   "id": "03e588d3",
   "metadata": {
    "scrolled": true
   },
   "outputs": [
    {
     "data": {
      "text/html": [
       "<div>\n",
       "<style scoped>\n",
       "    .dataframe tbody tr th:only-of-type {\n",
       "        vertical-align: middle;\n",
       "    }\n",
       "\n",
       "    .dataframe tbody tr th {\n",
       "        vertical-align: top;\n",
       "    }\n",
       "\n",
       "    .dataframe thead th {\n",
       "        text-align: right;\n",
       "    }\n",
       "</style>\n",
       "<table border=\"1\" class=\"dataframe\">\n",
       "  <thead>\n",
       "    <tr style=\"text-align: right;\">\n",
       "      <th></th>\n",
       "      <th>index</th>\n",
       "      <th>counting</th>\n",
       "      <th>percentages</th>\n",
       "    </tr>\n",
       "  </thead>\n",
       "  <tbody>\n",
       "    <tr>\n",
       "      <th>0</th>\n",
       "      <td>class</td>\n",
       "      <td>0</td>\n",
       "      <td>0.000000</td>\n",
       "    </tr>\n",
       "    <tr>\n",
       "      <th>1</th>\n",
       "      <td>aa00</td>\n",
       "      <td>0</td>\n",
       "      <td>0.000000</td>\n",
       "    </tr>\n",
       "    <tr>\n",
       "      <th>2</th>\n",
       "      <td>ab00</td>\n",
       "      <td>46329</td>\n",
       "      <td>0.772150</td>\n",
       "    </tr>\n",
       "    <tr>\n",
       "      <th>3</th>\n",
       "      <td>ac00</td>\n",
       "      <td>3335</td>\n",
       "      <td>0.055583</td>\n",
       "    </tr>\n",
       "    <tr>\n",
       "      <th>4</th>\n",
       "      <td>ad00</td>\n",
       "      <td>14861</td>\n",
       "      <td>0.247683</td>\n",
       "    </tr>\n",
       "  </tbody>\n",
       "</table>\n",
       "</div>"
      ],
      "text/plain": [
       "   index  counting  percentages\n",
       "0  class         0     0.000000\n",
       "1   aa00         0     0.000000\n",
       "2   ab00     46329     0.772150\n",
       "3   ac00      3335     0.055583\n",
       "4   ad00     14861     0.247683"
      ]
     },
     "execution_count": 18,
     "metadata": {},
     "output_type": "execute_result"
    }
   ],
   "source": [
    "nullvalues.head()"
   ]
  },
  {
   "cell_type": "code",
   "execution_count": 19,
   "id": "30fba1a5",
   "metadata": {},
   "outputs": [
    {
     "data": {
      "image/png": "[encoded data removed]",
      "text/plain": [
       "<Figure size 360x360 with 1 Axes>"
      ]
     },
     "metadata": {
      "needs_background": "light"
     },
     "output_type": "display_data"
    }
   ],
   "source": [
    "fg = sns.displot(data=nullvalues, x='percentages', stat='percent', kde=True, bins = 4)"
   ]
  },
  {
   "cell_type": "markdown",
   "id": "67f5e1df",
   "metadata": {},
   "source": [
    "<div style=\"text-align: justify\">It is possible to verify that the dataset has over 80% of its data missing less than 20% of information, and almost 10% of its information missing over 50% of information. <br>\n",
    "\n",
    "In this project, to reduce the amount of missing data, two strategies will be applied:<br>\n",
    "\n",
    "1- Drop features and index that miss over 50% information.<br>\n",
    "\n",
    "2- Try different methods to imput the remaining missing data and see its influence in PCD and in the accuracy of machine learning models.<br>\n",
    "\n",
    "The first step will be drop every feature that miss over 50% of information. To make this, it will be used the matrix nullvalues, and index of percentages over 50% will be dropped in the original dataframe, df.</div>"
   ]
  },
  {
   "cell_type": "code",
   "execution_count": 20,
   "id": "f4157b50",
   "metadata": {},
   "outputs": [],
   "source": [
    "higher50 = nullvalues[nullvalues['percentages'] >=0.5]"
   ]
  },
  {
   "cell_type": "code",
   "execution_count": 21,
   "id": "28a11be5",
   "metadata": {
    "scrolled": true
   },
   "outputs": [
    {
     "name": "stdout",
     "output_type": "stream",
     "text": [
      "(8, 3)\n"
     ]
    }
   ],
   "source": [
    "print(higher50.shape)"
   ]
  },
  {
   "cell_type": "markdown",
   "id": "bd2b8b8a",
   "metadata": {},
   "source": [
    "<div style=\"text-align: justify\">8 features was found to have over 50% of data missing, and they will be, therefore, dropped on the original dataset. They represent 4.7% of the features of the dataset.</div>"
   ]
  },
  {
   "cell_type": "markdown",
   "id": "c53d6766",
   "metadata": {},
   "source": [
    "<div style=\"text-align: justify\">The same procedure applyed to the columns will be applied to the rows. The intention is drop any observation that presents over 50% of unknown values. In this case it was made a loop to analyse the amount of missing data row by row.</div>"
   ]
  },
  {
   "cell_type": "code",
   "execution_count": 22,
   "id": "ee9cbb61",
   "metadata": {},
   "outputs": [],
   "source": [
    "missingrows = pd.DataFrame({'index':[],'counting':[]})\n",
    "for row in range(len(df)):\n",
    "    a = df.iloc[row, :].isnull().sum()\n",
    "    new_row = {'index':row, 'counting': a}\n",
    "    missingrows = missingrows.append(new_row, ignore_index= True)"
   ]
  },
  {
   "cell_type": "code",
   "execution_count": 23,
   "id": "825161ab",
   "metadata": {},
   "outputs": [],
   "source": [
    "missingrows['percentages'] = missingrows['counting']/len(df.columns)"
   ]
  },
  {
   "cell_type": "code",
   "execution_count": 24,
   "id": "1deb079c",
   "metadata": {},
   "outputs": [
    {
     "data": {
      "text/html": [
       "<div>\n",
       "<style scoped>\n",
       "    .dataframe tbody tr th:only-of-type {\n",
       "        vertical-align: middle;\n",
       "    }\n",
       "\n",
       "    .dataframe tbody tr th {\n",
       "        vertical-align: top;\n",
       "    }\n",
       "\n",
       "    .dataframe thead th {\n",
       "        text-align: right;\n",
       "    }\n",
       "</style>\n",
       "<table border=\"1\" class=\"dataframe\">\n",
       "  <thead>\n",
       "    <tr style=\"text-align: right;\">\n",
       "      <th></th>\n",
       "      <th>index</th>\n",
       "      <th>counting</th>\n",
       "      <th>percentages</th>\n",
       "    </tr>\n",
       "  </thead>\n",
       "  <tbody>\n",
       "    <tr>\n",
       "      <th>56</th>\n",
       "      <td>56.0</td>\n",
       "      <td>168.0</td>\n",
       "      <td>0.982456</td>\n",
       "    </tr>\n",
       "    <tr>\n",
       "      <th>164</th>\n",
       "      <td>164.0</td>\n",
       "      <td>88.0</td>\n",
       "      <td>0.514620</td>\n",
       "    </tr>\n",
       "    <tr>\n",
       "      <th>204</th>\n",
       "      <td>204.0</td>\n",
       "      <td>92.0</td>\n",
       "      <td>0.538012</td>\n",
       "    </tr>\n",
       "    <tr>\n",
       "      <th>502</th>\n",
       "      <td>502.0</td>\n",
       "      <td>168.0</td>\n",
       "      <td>0.982456</td>\n",
       "    </tr>\n",
       "    <tr>\n",
       "      <th>1106</th>\n",
       "      <td>1106.0</td>\n",
       "      <td>93.0</td>\n",
       "      <td>0.543860</td>\n",
       "    </tr>\n",
       "  </tbody>\n",
       "</table>\n",
       "</div>"
      ],
      "text/plain": [
       "       index  counting  percentages\n",
       "56      56.0     168.0     0.982456\n",
       "164    164.0      88.0     0.514620\n",
       "204    204.0      92.0     0.538012\n",
       "502    502.0     168.0     0.982456\n",
       "1106  1106.0      93.0     0.543860"
      ]
     },
     "execution_count": 24,
     "metadata": {},
     "output_type": "execute_result"
    }
   ],
   "source": [
    "rowshigher50 = missingrows[missingrows['percentages'] >=0.5]\n",
    "rowshigher50.head()"
   ]
  },
  {
   "cell_type": "code",
   "execution_count": 25,
   "id": "973ab834",
   "metadata": {},
   "outputs": [
    {
     "name": "stdout",
     "output_type": "stream",
     "text": [
      "(420, 3)\n"
     ]
    }
   ],
   "source": [
    "print(rowshigher50.shape)"
   ]
  },
  {
   "cell_type": "markdown",
   "id": "9e40c5c9",
   "metadata": {},
   "source": [
    "<div style=\"text-align: justify\">It is possible to verify that there are 420 rows has over 50% of data missing, and therefore they will be dropped. They represent aproximately 0.7% of the dataset, and excluding them should not represent big changes on the shape of the data.</div>"
   ]
  },
  {
   "cell_type": "markdown",
   "id": "d6b39bc8",
   "metadata": {},
   "source": [
    "<div style=\"text-align: justify\">The next steps will be verifying if the dataset contains any column composed only by unique values, which would make this column useless for predictive models, and also if it has duplicated values.</div>"
   ]
  },
  {
   "cell_type": "code",
   "execution_count": 26,
   "id": "c50eecce",
   "metadata": {},
   "outputs": [],
   "source": [
    "#Evaluating if there is any column with only unique values.\n",
    "\n",
    "uniquevalues = []\n",
    "for column in df:\n",
    "    a = df[column].is_unique\n",
    "    uniquevalues = np.append(uniquevalues, a)"
   ]
  },
  {
   "cell_type": "code",
   "execution_count": 27,
   "id": "2884ae48",
   "metadata": {},
   "outputs": [
    {
     "data": {
      "text/plain": [
       "array([0.])"
      ]
     },
     "execution_count": 27,
     "metadata": {},
     "output_type": "execute_result"
    }
   ],
   "source": [
    "np.unique(uniquevalues)"
   ]
  },
  {
   "cell_type": "markdown",
   "id": "e2800a0d",
   "metadata": {},
   "source": [
    "There are no columns on the dataset composed only by unique values, therefore no column can be dropped for this reason.\n",
    "\n",
    "Next, the dataset will be analysed to identify duplicated values."
   ]
  },
  {
   "cell_type": "code",
   "execution_count": 28,
   "id": "fc178075",
   "metadata": {
    "scrolled": true
   },
   "outputs": [
    {
     "name": "stdout",
     "output_type": "stream",
     "text": [
      "number of duplicate row:  (0, 171)\n"
     ]
    }
   ],
   "source": [
    "duplicate_rows_df = df[df.duplicated()]\n",
    "\n",
    "print('number of duplicate row: ', duplicate_rows_df.shape)"
   ]
  },
  {
   "cell_type": "markdown",
   "id": "3e929be5",
   "metadata": {},
   "source": [
    "<div style=\"text-align: justify\">There was no duplicated rows found. The next step will be analyse whether some columns are normal distributions or not. In the case the column is considered a normal distribution, 95% of the values of that column are within 2 standard deviation from the mean. Therefore, we are able to replace missing values for random values 2 standard deviation distant from the mean of this specific column. The normality test can be conducted through a visual approach. However, once in this case the amount of information is too large to analyse graph by graph, statistics data must be applyied to verify normality of the columns. <br>\n",
    "\n",
    "Two tests are available according to Zach (2022), a Shapiro-test and a Kolmogorov-Smirnov test. Although both test have the same functionality, the Shapiro-test can only handle up to 5000 observations and it is more indicated to small number of samples, according to www.statsdirect.com. (n.d.). Normality Tests and Gupta, A., Mishra, P., Pandey, C., Singh, U., Sahu, C. and Keshri, A. (2019), whereas the Kolmogorov Smirnov test in more indicated to large samples. <br>\n",
    "\n",
    "In this case the data will be evaluated according to the Kolmogorov-Smirnov test. The Kolmogorov-Smirnov consists in the hypothesis:<br>\n",
    "H0 - Data comes from a normal distribution.<br>\n",
    "HA - Data does not come from a normal distribution.<br>\n",
    "The test returns a p-values in which.<br>\n",
    "p < 0.05, Reject H0, thus the sample does not come from a normal distribution.<br>\n",
    "p >= 0.05, Do not reject H0, thus the sample does come from a normal distribution.<br>\n",
    "\n",
    "The p-value will be calculated in a loop for each column and stored in a dataframe with features. Afterwards, it will be filtered if this dataframe contains any p-value >= 0.05, and in case it has, this features will be considered potential to substituion by its mean.</div>"
   ]
  },
  {
   "cell_type": "code",
   "execution_count": 29,
   "id": "77516ab2",
   "metadata": {},
   "outputs": [
    {
     "data": {
      "text/html": [
       "<div>\n",
       "<style scoped>\n",
       "    .dataframe tbody tr th:only-of-type {\n",
       "        vertical-align: middle;\n",
       "    }\n",
       "\n",
       "    .dataframe tbody tr th {\n",
       "        vertical-align: top;\n",
       "    }\n",
       "\n",
       "    .dataframe thead th {\n",
       "        text-align: right;\n",
       "    }\n",
       "</style>\n",
       "<table border=\"1\" class=\"dataframe\">\n",
       "  <thead>\n",
       "    <tr style=\"text-align: right;\">\n",
       "      <th></th>\n",
       "      <th>class</th>\n",
       "      <th>aa00</th>\n",
       "      <th>ab00</th>\n",
       "      <th>ac00</th>\n",
       "      <th>ad00</th>\n",
       "      <th>ae00</th>\n",
       "      <th>af00</th>\n",
       "      <th>ag00</th>\n",
       "      <th>ag01</th>\n",
       "      <th>ag02</th>\n",
       "      <th>...</th>\n",
       "      <th>ee02</th>\n",
       "      <th>ee03</th>\n",
       "      <th>ee04</th>\n",
       "      <th>ee05</th>\n",
       "      <th>ee06</th>\n",
       "      <th>ee07</th>\n",
       "      <th>ee08</th>\n",
       "      <th>ee09</th>\n",
       "      <th>ef00</th>\n",
       "      <th>eg00</th>\n",
       "    </tr>\n",
       "  </thead>\n",
       "  <tbody>\n",
       "    <tr>\n",
       "      <th>0</th>\n",
       "      <td>neg</td>\n",
       "      <td>76698</td>\n",
       "      <td>NaN</td>\n",
       "      <td>2.130706e+09</td>\n",
       "      <td>280.0</td>\n",
       "      <td>0.0</td>\n",
       "      <td>0.0</td>\n",
       "      <td>0.0</td>\n",
       "      <td>0.0</td>\n",
       "      <td>0.0</td>\n",
       "      <td>...</td>\n",
       "      <td>1240520.0</td>\n",
       "      <td>493384.0</td>\n",
       "      <td>721044.0</td>\n",
       "      <td>469792.0</td>\n",
       "      <td>339156.0</td>\n",
       "      <td>157956.0</td>\n",
       "      <td>73224.0</td>\n",
       "      <td>0.0</td>\n",
       "      <td>0.0</td>\n",
       "      <td>0.0</td>\n",
       "    </tr>\n",
       "    <tr>\n",
       "      <th>1</th>\n",
       "      <td>neg</td>\n",
       "      <td>33058</td>\n",
       "      <td>NaN</td>\n",
       "      <td>0.000000e+00</td>\n",
       "      <td>NaN</td>\n",
       "      <td>0.0</td>\n",
       "      <td>0.0</td>\n",
       "      <td>0.0</td>\n",
       "      <td>0.0</td>\n",
       "      <td>0.0</td>\n",
       "      <td>...</td>\n",
       "      <td>421400.0</td>\n",
       "      <td>178064.0</td>\n",
       "      <td>293306.0</td>\n",
       "      <td>245416.0</td>\n",
       "      <td>133654.0</td>\n",
       "      <td>81140.0</td>\n",
       "      <td>97576.0</td>\n",
       "      <td>1500.0</td>\n",
       "      <td>0.0</td>\n",
       "      <td>0.0</td>\n",
       "    </tr>\n",
       "    <tr>\n",
       "      <th>2</th>\n",
       "      <td>neg</td>\n",
       "      <td>41040</td>\n",
       "      <td>NaN</td>\n",
       "      <td>2.280000e+02</td>\n",
       "      <td>100.0</td>\n",
       "      <td>0.0</td>\n",
       "      <td>0.0</td>\n",
       "      <td>0.0</td>\n",
       "      <td>0.0</td>\n",
       "      <td>0.0</td>\n",
       "      <td>...</td>\n",
       "      <td>277378.0</td>\n",
       "      <td>159812.0</td>\n",
       "      <td>423992.0</td>\n",
       "      <td>409564.0</td>\n",
       "      <td>320746.0</td>\n",
       "      <td>158022.0</td>\n",
       "      <td>95128.0</td>\n",
       "      <td>514.0</td>\n",
       "      <td>0.0</td>\n",
       "      <td>0.0</td>\n",
       "    </tr>\n",
       "    <tr>\n",
       "      <th>3</th>\n",
       "      <td>neg</td>\n",
       "      <td>12</td>\n",
       "      <td>0.0</td>\n",
       "      <td>7.000000e+01</td>\n",
       "      <td>66.0</td>\n",
       "      <td>0.0</td>\n",
       "      <td>10.0</td>\n",
       "      <td>0.0</td>\n",
       "      <td>0.0</td>\n",
       "      <td>0.0</td>\n",
       "      <td>...</td>\n",
       "      <td>240.0</td>\n",
       "      <td>46.0</td>\n",
       "      <td>58.0</td>\n",
       "      <td>44.0</td>\n",
       "      <td>10.0</td>\n",
       "      <td>0.0</td>\n",
       "      <td>0.0</td>\n",
       "      <td>0.0</td>\n",
       "      <td>4.0</td>\n",
       "      <td>32.0</td>\n",
       "    </tr>\n",
       "    <tr>\n",
       "      <th>4</th>\n",
       "      <td>neg</td>\n",
       "      <td>60874</td>\n",
       "      <td>NaN</td>\n",
       "      <td>1.368000e+03</td>\n",
       "      <td>458.0</td>\n",
       "      <td>0.0</td>\n",
       "      <td>0.0</td>\n",
       "      <td>0.0</td>\n",
       "      <td>0.0</td>\n",
       "      <td>0.0</td>\n",
       "      <td>...</td>\n",
       "      <td>622012.0</td>\n",
       "      <td>229790.0</td>\n",
       "      <td>405298.0</td>\n",
       "      <td>347188.0</td>\n",
       "      <td>286954.0</td>\n",
       "      <td>311560.0</td>\n",
       "      <td>433954.0</td>\n",
       "      <td>1218.0</td>\n",
       "      <td>0.0</td>\n",
       "      <td>0.0</td>\n",
       "    </tr>\n",
       "  </tbody>\n",
       "</table>\n",
       "<p>5 rows × 171 columns</p>\n",
       "</div>"
      ],
      "text/plain": [
       "  class   aa00  ab00          ac00   ad00  ae00  af00  ag00  ag01  ag02  ...  \\\n",
       "0   neg  76698   NaN  2.130706e+09  280.0   0.0   0.0   0.0   0.0   0.0  ...   \n",
       "1   neg  33058   NaN  0.000000e+00    NaN   0.0   0.0   0.0   0.0   0.0  ...   \n",
       "2   neg  41040   NaN  2.280000e+02  100.0   0.0   0.0   0.0   0.0   0.0  ...   \n",
       "3   neg     12   0.0  7.000000e+01   66.0   0.0  10.0   0.0   0.0   0.0  ...   \n",
       "4   neg  60874   NaN  1.368000e+03  458.0   0.0   0.0   0.0   0.0   0.0  ...   \n",
       "\n",
       "        ee02      ee03      ee04      ee05      ee06      ee07      ee08  \\\n",
       "0  1240520.0  493384.0  721044.0  469792.0  339156.0  157956.0   73224.0   \n",
       "1   421400.0  178064.0  293306.0  245416.0  133654.0   81140.0   97576.0   \n",
       "2   277378.0  159812.0  423992.0  409564.0  320746.0  158022.0   95128.0   \n",
       "3      240.0      46.0      58.0      44.0      10.0       0.0       0.0   \n",
       "4   622012.0  229790.0  405298.0  347188.0  286954.0  311560.0  433954.0   \n",
       "\n",
       "     ee09  ef00  eg00  \n",
       "0     0.0   0.0   0.0  \n",
       "1  1500.0   0.0   0.0  \n",
       "2   514.0   0.0   0.0  \n",
       "3     0.0   4.0  32.0  \n",
       "4  1218.0   0.0   0.0  \n",
       "\n",
       "[5 rows x 171 columns]"
      ]
     },
     "execution_count": 29,
     "metadata": {},
     "output_type": "execute_result"
    }
   ],
   "source": [
    "df.head()"
   ]
  },
  {
   "cell_type": "code",
   "execution_count": 30,
   "id": "cb00d1ff",
   "metadata": {},
   "outputs": [],
   "source": [
    "normaltest = pd.DataFrame({'feature': [], 'stat':[],'pvalue':[]})\n",
    "for column in df.iloc[:, 1:]:\n",
    "    stat, pvalue = kstest(df[column].dropna(), 'norm')\n",
    "    new_row = {'feature': column, 'stat':stat,'pvalue':pvalue}\n",
    "    normaltest = normaltest.append(new_row, ignore_index= True)"
   ]
  },
  {
   "cell_type": "code",
   "execution_count": 31,
   "id": "aa0523ab",
   "metadata": {
    "scrolled": true
   },
   "outputs": [
    {
     "data": {
      "text/html": [
       "<div>\n",
       "<style scoped>\n",
       "    .dataframe tbody tr th:only-of-type {\n",
       "        vertical-align: middle;\n",
       "    }\n",
       "\n",
       "    .dataframe tbody tr th {\n",
       "        vertical-align: top;\n",
       "    }\n",
       "\n",
       "    .dataframe thead th {\n",
       "        text-align: right;\n",
       "    }\n",
       "</style>\n",
       "<table border=\"1\" class=\"dataframe\">\n",
       "  <thead>\n",
       "    <tr style=\"text-align: right;\">\n",
       "      <th></th>\n",
       "      <th>feature</th>\n",
       "      <th>stat</th>\n",
       "      <th>pvalue</th>\n",
       "    </tr>\n",
       "  </thead>\n",
       "  <tbody>\n",
       "    <tr>\n",
       "      <th>0</th>\n",
       "      <td>aa00</td>\n",
       "      <td>0.989852</td>\n",
       "      <td>0.0</td>\n",
       "    </tr>\n",
       "    <tr>\n",
       "      <th>1</th>\n",
       "      <td>ab00</td>\n",
       "      <td>0.500000</td>\n",
       "      <td>0.0</td>\n",
       "    </tr>\n",
       "    <tr>\n",
       "      <th>2</th>\n",
       "      <td>ac00</td>\n",
       "      <td>0.832175</td>\n",
       "      <td>0.0</td>\n",
       "    </tr>\n",
       "    <tr>\n",
       "      <th>3</th>\n",
       "      <td>ad00</td>\n",
       "      <td>0.934703</td>\n",
       "      <td>0.0</td>\n",
       "    </tr>\n",
       "    <tr>\n",
       "      <th>4</th>\n",
       "      <td>ae00</td>\n",
       "      <td>0.500000</td>\n",
       "      <td>0.0</td>\n",
       "    </tr>\n",
       "    <tr>\n",
       "      <th>...</th>\n",
       "      <td>...</td>\n",
       "      <td>...</td>\n",
       "      <td>...</td>\n",
       "    </tr>\n",
       "    <tr>\n",
       "      <th>165</th>\n",
       "      <td>ee07</td>\n",
       "      <td>0.859767</td>\n",
       "      <td>0.0</td>\n",
       "    </tr>\n",
       "    <tr>\n",
       "      <th>166</th>\n",
       "      <td>ee08</td>\n",
       "      <td>0.703671</td>\n",
       "      <td>0.0</td>\n",
       "    </tr>\n",
       "    <tr>\n",
       "      <th>167</th>\n",
       "      <td>ee09</td>\n",
       "      <td>0.500000</td>\n",
       "      <td>0.0</td>\n",
       "    </tr>\n",
       "    <tr>\n",
       "      <th>168</th>\n",
       "      <td>ef00</td>\n",
       "      <td>0.500000</td>\n",
       "      <td>0.0</td>\n",
       "    </tr>\n",
       "    <tr>\n",
       "      <th>169</th>\n",
       "      <td>eg00</td>\n",
       "      <td>0.500000</td>\n",
       "      <td>0.0</td>\n",
       "    </tr>\n",
       "  </tbody>\n",
       "</table>\n",
       "<p>170 rows × 3 columns</p>\n",
       "</div>"
      ],
      "text/plain": [
       "    feature      stat  pvalue\n",
       "0      aa00  0.989852     0.0\n",
       "1      ab00  0.500000     0.0\n",
       "2      ac00  0.832175     0.0\n",
       "3      ad00  0.934703     0.0\n",
       "4      ae00  0.500000     0.0\n",
       "..      ...       ...     ...\n",
       "165    ee07  0.859767     0.0\n",
       "166    ee08  0.703671     0.0\n",
       "167    ee09  0.500000     0.0\n",
       "168    ef00  0.500000     0.0\n",
       "169    eg00  0.500000     0.0\n",
       "\n",
       "[170 rows x 3 columns]"
      ]
     },
     "execution_count": 31,
     "metadata": {},
     "output_type": "execute_result"
    }
   ],
   "source": [
    "normaltest"
   ]
  },
  {
   "cell_type": "code",
   "execution_count": 32,
   "id": "938bc5ba",
   "metadata": {},
   "outputs": [
    {
     "data": {
      "text/html": [
       "<div>\n",
       "<style scoped>\n",
       "    .dataframe tbody tr th:only-of-type {\n",
       "        vertical-align: middle;\n",
       "    }\n",
       "\n",
       "    .dataframe tbody tr th {\n",
       "        vertical-align: top;\n",
       "    }\n",
       "\n",
       "    .dataframe thead th {\n",
       "        text-align: right;\n",
       "    }\n",
       "</style>\n",
       "<table border=\"1\" class=\"dataframe\">\n",
       "  <thead>\n",
       "    <tr style=\"text-align: right;\">\n",
       "      <th></th>\n",
       "      <th>feature</th>\n",
       "      <th>stat</th>\n",
       "      <th>pvalue</th>\n",
       "    </tr>\n",
       "  </thead>\n",
       "  <tbody>\n",
       "  </tbody>\n",
       "</table>\n",
       "</div>"
      ],
      "text/plain": [
       "Empty DataFrame\n",
       "Columns: [feature, stat, pvalue]\n",
       "Index: []"
      ]
     },
     "execution_count": 32,
     "metadata": {},
     "output_type": "execute_result"
    }
   ],
   "source": [
    "normaltest[normaltest.pvalue > 0.05]"
   ]
  },
  {
   "cell_type": "markdown",
   "id": "63652011",
   "metadata": {},
   "source": [
    "<div style=\"text-align: justify\">None of the features analysed can be considered normal, therefore applying the mean or values nearby the mean randomly is not a good option, because it is known that the data is not represented by its mean. For the main attempt realized in this project, null values will be imputed by the median of each column, which is more appropriate to data which is not normal. Nevertheless, by the end the option of the mean will be applied to verify and compare results.<br>\n",
    "\n",
    "All the exploratory analysis is finished at this point, and from now, all the steps to clean the data will be applied, according to the conclusions found in the exploratory analysis, which where:<br>\n",
    "\n",
    "1 - Removing features with over 50% of missing data.<br>\n",
    "\n",
    "2 - Removing rows with over 50% of missing data.<br>\n",
    "\n",
    "3 - Imputing the remaining missing data with its median.</div>"
   ]
  },
  {
   "cell_type": "markdown",
   "id": "e8c8b031",
   "metadata": {},
   "source": [
    "# 4- Cleaning the data and preparing the data"
   ]
  },
  {
   "cell_type": "markdown",
   "id": "cb0b4186",
   "metadata": {},
   "source": [
    "## 4.1- Removing features with over 50% of missing data."
   ]
  },
  {
   "cell_type": "code",
   "execution_count": 33,
   "id": "79920f68",
   "metadata": {},
   "outputs": [],
   "source": [
    "df = df.drop(higher50['index'], axis = 1)"
   ]
  },
  {
   "cell_type": "code",
   "execution_count": 34,
   "id": "fcde7a09",
   "metadata": {},
   "outputs": [
    {
     "data": {
      "text/plain": [
       "(60000, 163)"
      ]
     },
     "execution_count": 34,
     "metadata": {},
     "output_type": "execute_result"
    }
   ],
   "source": [
    "df.shape"
   ]
  },
  {
   "cell_type": "markdown",
   "id": "d8b9fc08",
   "metadata": {},
   "source": [
    "After doing that we can verify that the dataset that had originally 171 features, was reduced to 163."
   ]
  },
  {
   "cell_type": "markdown",
   "id": "c021c6b2",
   "metadata": {},
   "source": [
    "## 4.2- Removing rows with over 50% of missing data"
   ]
  },
  {
   "cell_type": "code",
   "execution_count": 35,
   "id": "14e84dd7",
   "metadata": {
    "scrolled": true
   },
   "outputs": [],
   "source": [
    "df.drop(rowshigher50['index'], axis = 0, inplace=True)"
   ]
  },
  {
   "cell_type": "code",
   "execution_count": 36,
   "id": "7cb8ab3b",
   "metadata": {
    "scrolled": false
   },
   "outputs": [
    {
     "name": "stdout",
     "output_type": "stream",
     "text": [
      "<class 'pandas.core.frame.DataFrame'>\n",
      "Int64Index: 59580 entries, 0 to 59999\n",
      "Columns: 163 entries, class to eg00\n",
      "dtypes: float64(161), int64(1), object(1)\n",
      "memory usage: 74.5+ MB\n"
     ]
    }
   ],
   "source": [
    "df.info()"
   ]
  },
  {
   "cell_type": "code",
   "execution_count": 37,
   "id": "14f7e5f7",
   "metadata": {},
   "outputs": [],
   "source": [
    "df.reset_index(drop = True, inplace = True)"
   ]
  },
  {
   "cell_type": "markdown",
   "id": "a913e3d2",
   "metadata": {},
   "source": [
    "<div style=\"text-align: justify\">It is possible to verify that after these procedure the dataset was reduced from 60000 observations and 171 features, to 59580 observations and 163 features. </div>"
   ]
  },
  {
   "cell_type": "markdown",
   "id": "c5011ffc",
   "metadata": {},
   "source": [
    "<div style=\"text-align: justify\">All steps after this milestones will be explored through a function described in the end of the report. It is possible to input different options desired for imputing missing data, scaling, outliers, oversampling data, and analyse different results without running though all steps again. </div>"
   ]
  },
  {
   "cell_type": "markdown",
   "id": "072988c2",
   "metadata": {},
   "source": [
    "## 4.3- Scaling"
   ]
  },
  {
   "cell_type": "markdown",
   "id": "99341a5a",
   "metadata": {},
   "source": [
    "<div style=\"text-align: justify\">It was verified that the dataset presents a high variance. A factor that might occasion this is different unities in different features. In the case of this study it is not known the unity of different features. However, to make sure all of the data is easy to understand, treat, and be found correlation, it is a good procedure to put all the data in the same scale. In this study data will be rescaled using the method StandarScaler, bringing the mean to all the data to 0, and the variance to 1, what will transform all features to the same magnitude. As will be disc|ussed in the conclusions, the best model was found with scaling, however, at a cost of a much higher processing power. Therefore, models without scaling will also be explored and discussed by the end of the report.</div>"
   ]
  },
  {
   "cell_type": "code",
   "execution_count": 38,
   "id": "a2be37e7",
   "metadata": {},
   "outputs": [],
   "source": [
    "scaler = StandardScaler()"
   ]
  },
  {
   "cell_type": "code",
   "execution_count": 39,
   "id": "f3126223",
   "metadata": {},
   "outputs": [
    {
     "data": {
      "text/html": [
       "<div>\n",
       "<style scoped>\n",
       "    .dataframe tbody tr th:only-of-type {\n",
       "        vertical-align: middle;\n",
       "    }\n",
       "\n",
       "    .dataframe tbody tr th {\n",
       "        vertical-align: top;\n",
       "    }\n",
       "\n",
       "    .dataframe thead th {\n",
       "        text-align: right;\n",
       "    }\n",
       "</style>\n",
       "<table border=\"1\" class=\"dataframe\">\n",
       "  <thead>\n",
       "    <tr style=\"text-align: right;\">\n",
       "      <th></th>\n",
       "      <th>aa00</th>\n",
       "      <th>ac00</th>\n",
       "      <th>ad00</th>\n",
       "      <th>ae00</th>\n",
       "      <th>af00</th>\n",
       "      <th>ag00</th>\n",
       "      <th>ag01</th>\n",
       "      <th>ag02</th>\n",
       "      <th>ag03</th>\n",
       "      <th>ag04</th>\n",
       "      <th>...</th>\n",
       "      <th>ee03</th>\n",
       "      <th>ee04</th>\n",
       "      <th>ee05</th>\n",
       "      <th>ee06</th>\n",
       "      <th>ee07</th>\n",
       "      <th>ee08</th>\n",
       "      <th>ee09</th>\n",
       "      <th>ef00</th>\n",
       "      <th>eg00</th>\n",
       "      <th>class</th>\n",
       "    </tr>\n",
       "  </thead>\n",
       "  <tbody>\n",
       "    <tr>\n",
       "      <th>0</th>\n",
       "      <td>0.120660</td>\n",
       "      <td>2.229512</td>\n",
       "      <td>-0.004714</td>\n",
       "      <td>-0.042266</td>\n",
       "      <td>-0.052539</td>\n",
       "      <td>-0.010817</td>\n",
       "      <td>-0.028417</td>\n",
       "      <td>-0.057152</td>\n",
       "      <td>-0.116059</td>\n",
       "      <td>-0.167992</td>\n",
       "      <td>...</td>\n",
       "      <td>0.520204</td>\n",
       "      <td>0.235997</td>\n",
       "      <td>0.067950</td>\n",
       "      <td>0.006111</td>\n",
       "      <td>-0.108637</td>\n",
       "      <td>-0.145646</td>\n",
       "      <td>-0.176698</td>\n",
       "      <td>-0.020756</td>\n",
       "      <td>-0.024106</td>\n",
       "      <td>neg</td>\n",
       "    </tr>\n",
       "    <tr>\n",
       "      <th>1</th>\n",
       "      <td>-0.179661</td>\n",
       "      <td>-0.448529</td>\n",
       "      <td>NaN</td>\n",
       "      <td>-0.042266</td>\n",
       "      <td>-0.052539</td>\n",
       "      <td>-0.010817</td>\n",
       "      <td>-0.028417</td>\n",
       "      <td>-0.057152</td>\n",
       "      <td>-0.116059</td>\n",
       "      <td>-0.175998</td>\n",
       "      <td>...</td>\n",
       "      <td>-0.060559</td>\n",
       "      <td>-0.130269</td>\n",
       "      <td>-0.132263</td>\n",
       "      <td>-0.186242</td>\n",
       "      <td>-0.153111</td>\n",
       "      <td>-0.091409</td>\n",
       "      <td>-0.145106</td>\n",
       "      <td>-0.020756</td>\n",
       "      <td>-0.024106</td>\n",
       "      <td>neg</td>\n",
       "    </tr>\n",
       "    <tr>\n",
       "      <th>2</th>\n",
       "      <td>-0.124731</td>\n",
       "      <td>-0.448529</td>\n",
       "      <td>-0.004718</td>\n",
       "      <td>-0.042266</td>\n",
       "      <td>-0.052539</td>\n",
       "      <td>-0.010817</td>\n",
       "      <td>-0.028417</td>\n",
       "      <td>-0.057152</td>\n",
       "      <td>-0.116059</td>\n",
       "      <td>-0.182998</td>\n",
       "      <td>...</td>\n",
       "      <td>-0.094176</td>\n",
       "      <td>-0.018364</td>\n",
       "      <td>0.014208</td>\n",
       "      <td>-0.011121</td>\n",
       "      <td>-0.108598</td>\n",
       "      <td>-0.096861</td>\n",
       "      <td>-0.165873</td>\n",
       "      <td>-0.020756</td>\n",
       "      <td>-0.024106</td>\n",
       "      <td>neg</td>\n",
       "    </tr>\n",
       "    <tr>\n",
       "      <th>3</th>\n",
       "      <td>-0.407077</td>\n",
       "      <td>-0.448529</td>\n",
       "      <td>-0.004719</td>\n",
       "      <td>-0.042266</td>\n",
       "      <td>-0.004944</td>\n",
       "      <td>-0.010817</td>\n",
       "      <td>-0.028417</td>\n",
       "      <td>-0.057152</td>\n",
       "      <td>-0.115642</td>\n",
       "      <td>-0.182760</td>\n",
       "      <td>...</td>\n",
       "      <td>-0.388436</td>\n",
       "      <td>-0.381373</td>\n",
       "      <td>-0.351211</td>\n",
       "      <td>-0.311335</td>\n",
       "      <td>-0.200090</td>\n",
       "      <td>-0.308732</td>\n",
       "      <td>-0.176698</td>\n",
       "      <td>0.893450</td>\n",
       "      <td>3.594212</td>\n",
       "      <td>neg</td>\n",
       "    </tr>\n",
       "    <tr>\n",
       "      <th>4</th>\n",
       "      <td>0.011763</td>\n",
       "      <td>-0.448527</td>\n",
       "      <td>-0.004709</td>\n",
       "      <td>-0.042266</td>\n",
       "      <td>-0.052539</td>\n",
       "      <td>-0.010817</td>\n",
       "      <td>-0.028417</td>\n",
       "      <td>-0.057152</td>\n",
       "      <td>-0.116059</td>\n",
       "      <td>-0.165251</td>\n",
       "      <td>...</td>\n",
       "      <td>0.034711</td>\n",
       "      <td>-0.034371</td>\n",
       "      <td>-0.041451</td>\n",
       "      <td>-0.042751</td>\n",
       "      <td>-0.019703</td>\n",
       "      <td>0.657780</td>\n",
       "      <td>-0.151045</td>\n",
       "      <td>-0.020756</td>\n",
       "      <td>-0.024106</td>\n",
       "      <td>neg</td>\n",
       "    </tr>\n",
       "  </tbody>\n",
       "</table>\n",
       "<p>5 rows × 163 columns</p>\n",
       "</div>"
      ],
      "text/plain": [
       "       aa00      ac00      ad00      ae00      af00      ag00      ag01  \\\n",
       "0  0.120660  2.229512 -0.004714 -0.042266 -0.052539 -0.010817 -0.028417   \n",
       "1 -0.179661 -0.448529       NaN -0.042266 -0.052539 -0.010817 -0.028417   \n",
       "2 -0.124731 -0.448529 -0.004718 -0.042266 -0.052539 -0.010817 -0.028417   \n",
       "3 -0.407077 -0.448529 -0.004719 -0.042266 -0.004944 -0.010817 -0.028417   \n",
       "4  0.011763 -0.448527 -0.004709 -0.042266 -0.052539 -0.010817 -0.028417   \n",
       "\n",
       "       ag02      ag03      ag04  ...      ee03      ee04      ee05      ee06  \\\n",
       "0 -0.057152 -0.116059 -0.167992  ...  0.520204  0.235997  0.067950  0.006111   \n",
       "1 -0.057152 -0.116059 -0.175998  ... -0.060559 -0.130269 -0.132263 -0.186242   \n",
       "2 -0.057152 -0.116059 -0.182998  ... -0.094176 -0.018364  0.014208 -0.011121   \n",
       "3 -0.057152 -0.115642 -0.182760  ... -0.388436 -0.381373 -0.351211 -0.311335   \n",
       "4 -0.057152 -0.116059 -0.165251  ...  0.034711 -0.034371 -0.041451 -0.042751   \n",
       "\n",
       "       ee07      ee08      ee09      ef00      eg00  class  \n",
       "0 -0.108637 -0.145646 -0.176698 -0.020756 -0.024106    neg  \n",
       "1 -0.153111 -0.091409 -0.145106 -0.020756 -0.024106    neg  \n",
       "2 -0.108598 -0.096861 -0.165873 -0.020756 -0.024106    neg  \n",
       "3 -0.200090 -0.308732 -0.176698  0.893450  3.594212    neg  \n",
       "4 -0.019703  0.657780 -0.151045 -0.020756 -0.024106    neg  \n",
       "\n",
       "[5 rows x 163 columns]"
      ]
     },
     "execution_count": 39,
     "metadata": {},
     "output_type": "execute_result"
    }
   ],
   "source": [
    "a = df.drop(columns = ['class'])\n",
    "scaled = scaler.fit_transform(a)\n",
    "df2 = pd.DataFrame(scaled, columns=df.drop(columns = ['class']).columns)\n",
    "df2['class']=df['class']\n",
    "df2.reset_index(drop = True, inplace=True)\n",
    "df2.head()"
   ]
  },
  {
   "cell_type": "markdown",
   "id": "a03db924",
   "metadata": {},
   "source": [
    "## 4.4- Imputing the remaining missing data with its median."
   ]
  },
  {
   "cell_type": "code",
   "execution_count": 40,
   "id": "9b556bcb",
   "metadata": {
    "scrolled": false
   },
   "outputs": [
    {
     "data": {
      "text/plain": [
       "aa00         0\n",
       "ac00      3085\n",
       "ad00     14493\n",
       "ae00      2254\n",
       "af00      2254\n",
       "         ...  \n",
       "ee08       279\n",
       "ee09       279\n",
       "ef00      2476\n",
       "eg00      2476\n",
       "class        0\n",
       "Length: 163, dtype: int64"
      ]
     },
     "execution_count": 40,
     "metadata": {},
     "output_type": "execute_result"
    }
   ],
   "source": [
    "df2.isnull().sum()"
   ]
  },
  {
   "cell_type": "code",
   "execution_count": 41,
   "id": "2f57c1e9",
   "metadata": {},
   "outputs": [
    {
     "name": "stdout",
     "output_type": "stream",
     "text": [
      "The dataset will be imputed in: 4.43% of its values.\n"
     ]
    }
   ],
   "source": [
    "print (\"The dataset will be imputed in: {0:.3}% of its values.\" .format(df.isnull().sum().sum()/(len(df['class'])*163)*100))"
   ]
  },
  {
   "cell_type": "markdown",
   "id": "e519c9d7",
   "metadata": {},
   "source": [
    "So the dataset will be imputed in 4.43% of its values, what is not a very high amount."
   ]
  },
  {
   "cell_type": "code",
   "execution_count": 42,
   "id": "13d57400",
   "metadata": {},
   "outputs": [
    {
     "data": {
      "text/html": [
       "<div>\n",
       "<style scoped>\n",
       "    .dataframe tbody tr th:only-of-type {\n",
       "        vertical-align: middle;\n",
       "    }\n",
       "\n",
       "    .dataframe tbody tr th {\n",
       "        vertical-align: top;\n",
       "    }\n",
       "\n",
       "    .dataframe thead th {\n",
       "        text-align: right;\n",
       "    }\n",
       "</style>\n",
       "<table border=\"1\" class=\"dataframe\">\n",
       "  <thead>\n",
       "    <tr style=\"text-align: right;\">\n",
       "      <th></th>\n",
       "      <th>aa00</th>\n",
       "      <th>ac00</th>\n",
       "      <th>ad00</th>\n",
       "      <th>ae00</th>\n",
       "      <th>af00</th>\n",
       "      <th>ag00</th>\n",
       "      <th>ag01</th>\n",
       "      <th>ag02</th>\n",
       "      <th>ag03</th>\n",
       "      <th>ag04</th>\n",
       "      <th>...</th>\n",
       "      <th>ee03</th>\n",
       "      <th>ee04</th>\n",
       "      <th>ee05</th>\n",
       "      <th>ee06</th>\n",
       "      <th>ee07</th>\n",
       "      <th>ee08</th>\n",
       "      <th>ee09</th>\n",
       "      <th>ef00</th>\n",
       "      <th>eg00</th>\n",
       "      <th>class</th>\n",
       "    </tr>\n",
       "  </thead>\n",
       "  <tbody>\n",
       "    <tr>\n",
       "      <th>0</th>\n",
       "      <td>0.120660</td>\n",
       "      <td>2.229512</td>\n",
       "      <td>-0.004714</td>\n",
       "      <td>-0.042266</td>\n",
       "      <td>-0.052539</td>\n",
       "      <td>-0.010817</td>\n",
       "      <td>-0.028417</td>\n",
       "      <td>-0.057152</td>\n",
       "      <td>-0.116059</td>\n",
       "      <td>-0.167992</td>\n",
       "      <td>...</td>\n",
       "      <td>0.520204</td>\n",
       "      <td>0.235997</td>\n",
       "      <td>0.067950</td>\n",
       "      <td>0.006111</td>\n",
       "      <td>-0.108637</td>\n",
       "      <td>-0.145646</td>\n",
       "      <td>-0.176698</td>\n",
       "      <td>-0.020756</td>\n",
       "      <td>-0.024106</td>\n",
       "      <td>neg</td>\n",
       "    </tr>\n",
       "    <tr>\n",
       "      <th>1</th>\n",
       "      <td>-0.179661</td>\n",
       "      <td>-0.448529</td>\n",
       "      <td>-0.004717</td>\n",
       "      <td>-0.042266</td>\n",
       "      <td>-0.052539</td>\n",
       "      <td>-0.010817</td>\n",
       "      <td>-0.028417</td>\n",
       "      <td>-0.057152</td>\n",
       "      <td>-0.116059</td>\n",
       "      <td>-0.175998</td>\n",
       "      <td>...</td>\n",
       "      <td>-0.060559</td>\n",
       "      <td>-0.130269</td>\n",
       "      <td>-0.132263</td>\n",
       "      <td>-0.186242</td>\n",
       "      <td>-0.153111</td>\n",
       "      <td>-0.091409</td>\n",
       "      <td>-0.145106</td>\n",
       "      <td>-0.020756</td>\n",
       "      <td>-0.024106</td>\n",
       "      <td>neg</td>\n",
       "    </tr>\n",
       "    <tr>\n",
       "      <th>2</th>\n",
       "      <td>-0.124731</td>\n",
       "      <td>-0.448529</td>\n",
       "      <td>-0.004718</td>\n",
       "      <td>-0.042266</td>\n",
       "      <td>-0.052539</td>\n",
       "      <td>-0.010817</td>\n",
       "      <td>-0.028417</td>\n",
       "      <td>-0.057152</td>\n",
       "      <td>-0.116059</td>\n",
       "      <td>-0.182998</td>\n",
       "      <td>...</td>\n",
       "      <td>-0.094176</td>\n",
       "      <td>-0.018364</td>\n",
       "      <td>0.014208</td>\n",
       "      <td>-0.011121</td>\n",
       "      <td>-0.108598</td>\n",
       "      <td>-0.096861</td>\n",
       "      <td>-0.165873</td>\n",
       "      <td>-0.020756</td>\n",
       "      <td>-0.024106</td>\n",
       "      <td>neg</td>\n",
       "    </tr>\n",
       "    <tr>\n",
       "      <th>3</th>\n",
       "      <td>-0.407077</td>\n",
       "      <td>-0.448529</td>\n",
       "      <td>-0.004719</td>\n",
       "      <td>-0.042266</td>\n",
       "      <td>-0.004944</td>\n",
       "      <td>-0.010817</td>\n",
       "      <td>-0.028417</td>\n",
       "      <td>-0.057152</td>\n",
       "      <td>-0.115642</td>\n",
       "      <td>-0.182760</td>\n",
       "      <td>...</td>\n",
       "      <td>-0.388436</td>\n",
       "      <td>-0.381373</td>\n",
       "      <td>-0.351211</td>\n",
       "      <td>-0.311335</td>\n",
       "      <td>-0.200090</td>\n",
       "      <td>-0.308732</td>\n",
       "      <td>-0.176698</td>\n",
       "      <td>0.893450</td>\n",
       "      <td>3.594212</td>\n",
       "      <td>neg</td>\n",
       "    </tr>\n",
       "    <tr>\n",
       "      <th>4</th>\n",
       "      <td>0.011763</td>\n",
       "      <td>-0.448527</td>\n",
       "      <td>-0.004709</td>\n",
       "      <td>-0.042266</td>\n",
       "      <td>-0.052539</td>\n",
       "      <td>-0.010817</td>\n",
       "      <td>-0.028417</td>\n",
       "      <td>-0.057152</td>\n",
       "      <td>-0.116059</td>\n",
       "      <td>-0.165251</td>\n",
       "      <td>...</td>\n",
       "      <td>0.034711</td>\n",
       "      <td>-0.034371</td>\n",
       "      <td>-0.041451</td>\n",
       "      <td>-0.042751</td>\n",
       "      <td>-0.019703</td>\n",
       "      <td>0.657780</td>\n",
       "      <td>-0.151045</td>\n",
       "      <td>-0.020756</td>\n",
       "      <td>-0.024106</td>\n",
       "      <td>neg</td>\n",
       "    </tr>\n",
       "  </tbody>\n",
       "</table>\n",
       "<p>5 rows × 163 columns</p>\n",
       "</div>"
      ],
      "text/plain": [
       "       aa00      ac00      ad00      ae00      af00      ag00      ag01  \\\n",
       "0  0.120660  2.229512 -0.004714 -0.042266 -0.052539 -0.010817 -0.028417   \n",
       "1 -0.179661 -0.448529 -0.004717 -0.042266 -0.052539 -0.010817 -0.028417   \n",
       "2 -0.124731 -0.448529 -0.004718 -0.042266 -0.052539 -0.010817 -0.028417   \n",
       "3 -0.407077 -0.448529 -0.004719 -0.042266 -0.004944 -0.010817 -0.028417   \n",
       "4  0.011763 -0.448527 -0.004709 -0.042266 -0.052539 -0.010817 -0.028417   \n",
       "\n",
       "       ag02      ag03      ag04  ...      ee03      ee04      ee05      ee06  \\\n",
       "0 -0.057152 -0.116059 -0.167992  ...  0.520204  0.235997  0.067950  0.006111   \n",
       "1 -0.057152 -0.116059 -0.175998  ... -0.060559 -0.130269 -0.132263 -0.186242   \n",
       "2 -0.057152 -0.116059 -0.182998  ... -0.094176 -0.018364  0.014208 -0.011121   \n",
       "3 -0.057152 -0.115642 -0.182760  ... -0.388436 -0.381373 -0.351211 -0.311335   \n",
       "4 -0.057152 -0.116059 -0.165251  ...  0.034711 -0.034371 -0.041451 -0.042751   \n",
       "\n",
       "       ee07      ee08      ee09      ef00      eg00  class  \n",
       "0 -0.108637 -0.145646 -0.176698 -0.020756 -0.024106    neg  \n",
       "1 -0.153111 -0.091409 -0.145106 -0.020756 -0.024106    neg  \n",
       "2 -0.108598 -0.096861 -0.165873 -0.020756 -0.024106    neg  \n",
       "3 -0.200090 -0.308732 -0.176698  0.893450  3.594212    neg  \n",
       "4 -0.019703  0.657780 -0.151045 -0.020756 -0.024106    neg  \n",
       "\n",
       "[5 rows x 163 columns]"
      ]
     },
     "execution_count": 42,
     "metadata": {},
     "output_type": "execute_result"
    }
   ],
   "source": [
    "df3 = df2.fillna(df2.median())\n",
    "df3.reset_index(drop = True, inplace=True)\n",
    "df3.head()"
   ]
  },
  {
   "cell_type": "markdown",
   "id": "2165c0d3",
   "metadata": {},
   "source": [
    "# 5- Detecting Outliers\n",
    "\n",
    "<div style=\"text-align: justify\">The next step will be identifying and removing outliers. This step will be made separately for positive and negative classes. This will be made because we do not know how the dataset behave in each class, therefore, mean and distribution of the data may be important features of 'pos' and 'neg' class. This step was described in this project, however, it was identified during its execution that models did not behave well with the exclusion of outliers. This happens because the distribution of the data in the dataset is in such a way that almost all the dataset is identified as outlier. The result does change depending on the imputation method used, but overall, in all cases analysed in this report, dropping outliers did not benefited the accurary of models, and in some cases, it made it impossible, because there was not enought values.</div>"
   ]
  },
  {
   "cell_type": "code",
   "execution_count": 43,
   "id": "256f5e36",
   "metadata": {},
   "outputs": [
    {
     "name": "stdout",
     "output_type": "stream",
     "text": [
      "aa00    4.198937\n",
      "ac00    0.000003\n",
      "ad00    0.000045\n",
      "ae00    0.000000\n",
      "af00    0.000000\n",
      "          ...   \n",
      "ee07    1.717325\n",
      "ee08    1.045202\n",
      "ee09    0.040070\n",
      "ef00    0.000000\n",
      "eg00    0.000000\n",
      "Length: 162, dtype: float64\n"
     ]
    },
    {
     "data": {
      "text/plain": [
       "(992, 163)"
      ]
     },
     "execution_count": 43,
     "metadata": {},
     "output_type": "execute_result"
    }
   ],
   "source": [
    "#Detecting outliers for positive class\n",
    "dfpos = df2[(df2['class'] == 'pos')]\n",
    "Q1pos = dfpos.quantile(0.25)\n",
    "Q3pos = dfpos.quantile(0.75)\n",
    "IQRpos = Q3pos - Q1pos\n",
    "print(IQRpos)\n",
    "dfpos.shape"
   ]
  },
  {
   "cell_type": "code",
   "execution_count": 44,
   "id": "969e6b31",
   "metadata": {},
   "outputs": [
    {
     "data": {
      "text/plain": [
       "(24, 163)"
      ]
     },
     "execution_count": 44,
     "metadata": {},
     "output_type": "execute_result"
    }
   ],
   "source": [
    "dfpos = dfpos[~((dfpos < (Q1pos - 1.5*IQRpos)) | (dfpos > (Q3pos + 1.5*IQRpos))).any(axis=1)]\n",
    "dfpos.shape"
   ]
  },
  {
   "cell_type": "code",
   "execution_count": 45,
   "id": "3cb2b35d",
   "metadata": {},
   "outputs": [
    {
     "name": "stdout",
     "output_type": "stream",
     "text": [
      "aa00    4.621406e+00\n",
      "ac00    7.666965e-08\n",
      "ad00    2.968294e-07\n",
      "ae00    0.000000e+00\n",
      "af00    0.000000e+00\n",
      "            ...     \n",
      "ee07    6.301502e-01\n",
      "ee08    1.730396e-01\n",
      "ee09    6.318525e-05\n",
      "ef00    0.000000e+00\n",
      "eg00    0.000000e+00\n",
      "Length: 162, dtype: float64\n"
     ]
    },
    {
     "data": {
      "text/plain": [
       "(58588, 163)"
      ]
     },
     "execution_count": 45,
     "metadata": {},
     "output_type": "execute_result"
    }
   ],
   "source": [
    "#Detecting outliers for negative class\n",
    "dfneg = df2[(df2['class'] == 'neg')]\n",
    "Q1neg = dfpos.quantile(0.25)\n",
    "Q3neg = dfpos.quantile(0.75)\n",
    "IQRneg = Q3neg - Q1neg\n",
    "print(IQRneg)\n",
    "dfneg.shape"
   ]
  },
  {
   "cell_type": "code",
   "execution_count": 46,
   "id": "f7ac4336",
   "metadata": {},
   "outputs": [
    {
     "data": {
      "text/html": [
       "<div>\n",
       "<style scoped>\n",
       "    .dataframe tbody tr th:only-of-type {\n",
       "        vertical-align: middle;\n",
       "    }\n",
       "\n",
       "    .dataframe tbody tr th {\n",
       "        vertical-align: top;\n",
       "    }\n",
       "\n",
       "    .dataframe thead th {\n",
       "        text-align: right;\n",
       "    }\n",
       "</style>\n",
       "<table border=\"1\" class=\"dataframe\">\n",
       "  <thead>\n",
       "    <tr style=\"text-align: right;\">\n",
       "      <th></th>\n",
       "      <th>aa00</th>\n",
       "      <th>ac00</th>\n",
       "      <th>ad00</th>\n",
       "      <th>ae00</th>\n",
       "      <th>af00</th>\n",
       "      <th>ag00</th>\n",
       "      <th>ag01</th>\n",
       "      <th>ag02</th>\n",
       "      <th>ag03</th>\n",
       "      <th>ag04</th>\n",
       "      <th>...</th>\n",
       "      <th>ee03</th>\n",
       "      <th>ee04</th>\n",
       "      <th>ee05</th>\n",
       "      <th>ee06</th>\n",
       "      <th>ee07</th>\n",
       "      <th>ee08</th>\n",
       "      <th>ee09</th>\n",
       "      <th>ef00</th>\n",
       "      <th>eg00</th>\n",
       "      <th>class</th>\n",
       "    </tr>\n",
       "  </thead>\n",
       "  <tbody>\n",
       "    <tr>\n",
       "      <th>877</th>\n",
       "      <td>0.428138</td>\n",
       "      <td>-0.448529</td>\n",
       "      <td>-0.004721</td>\n",
       "      <td>-0.042266</td>\n",
       "      <td>-0.052539</td>\n",
       "      <td>-0.010817</td>\n",
       "      <td>-0.028417</td>\n",
       "      <td>-0.057152</td>\n",
       "      <td>-0.116059</td>\n",
       "      <td>-0.183692</td>\n",
       "      <td>...</td>\n",
       "      <td>-0.388521</td>\n",
       "      <td>-0.381422</td>\n",
       "      <td>-0.351250</td>\n",
       "      <td>-0.311344</td>\n",
       "      <td>-0.200090</td>\n",
       "      <td>-0.308732</td>\n",
       "      <td>-0.176698</td>\n",
       "      <td>-0.020756</td>\n",
       "      <td>-0.024106</td>\n",
       "      <td>neg</td>\n",
       "    </tr>\n",
       "    <tr>\n",
       "      <th>7184</th>\n",
       "      <td>-0.406733</td>\n",
       "      <td>NaN</td>\n",
       "      <td>NaN</td>\n",
       "      <td>-0.042266</td>\n",
       "      <td>-0.052539</td>\n",
       "      <td>-0.010817</td>\n",
       "      <td>-0.028417</td>\n",
       "      <td>-0.057152</td>\n",
       "      <td>-0.116059</td>\n",
       "      <td>-0.179395</td>\n",
       "      <td>...</td>\n",
       "      <td>-0.387961</td>\n",
       "      <td>-0.381309</td>\n",
       "      <td>-0.351200</td>\n",
       "      <td>-0.311251</td>\n",
       "      <td>-0.199928</td>\n",
       "      <td>-0.308732</td>\n",
       "      <td>-0.176698</td>\n",
       "      <td>NaN</td>\n",
       "      <td>NaN</td>\n",
       "      <td>neg</td>\n",
       "    </tr>\n",
       "    <tr>\n",
       "      <th>9334</th>\n",
       "      <td>0.280125</td>\n",
       "      <td>-0.448529</td>\n",
       "      <td>-0.004721</td>\n",
       "      <td>-0.042266</td>\n",
       "      <td>-0.052539</td>\n",
       "      <td>-0.010817</td>\n",
       "      <td>-0.028417</td>\n",
       "      <td>-0.057152</td>\n",
       "      <td>-0.116059</td>\n",
       "      <td>-0.183692</td>\n",
       "      <td>...</td>\n",
       "      <td>-0.388521</td>\n",
       "      <td>-0.381422</td>\n",
       "      <td>-0.351250</td>\n",
       "      <td>-0.311344</td>\n",
       "      <td>-0.200090</td>\n",
       "      <td>-0.308732</td>\n",
       "      <td>-0.176698</td>\n",
       "      <td>-0.020756</td>\n",
       "      <td>-0.024106</td>\n",
       "      <td>neg</td>\n",
       "    </tr>\n",
       "    <tr>\n",
       "      <th>9456</th>\n",
       "      <td>2.350827</td>\n",
       "      <td>-0.448529</td>\n",
       "      <td>NaN</td>\n",
       "      <td>-0.042266</td>\n",
       "      <td>-0.052539</td>\n",
       "      <td>-0.010817</td>\n",
       "      <td>-0.028417</td>\n",
       "      <td>-0.057152</td>\n",
       "      <td>-0.116059</td>\n",
       "      <td>-0.183692</td>\n",
       "      <td>...</td>\n",
       "      <td>-0.388521</td>\n",
       "      <td>-0.381422</td>\n",
       "      <td>-0.351250</td>\n",
       "      <td>-0.311344</td>\n",
       "      <td>-0.200090</td>\n",
       "      <td>-0.308732</td>\n",
       "      <td>-0.176698</td>\n",
       "      <td>-0.020756</td>\n",
       "      <td>-0.024106</td>\n",
       "      <td>neg</td>\n",
       "    </tr>\n",
       "    <tr>\n",
       "      <th>19164</th>\n",
       "      <td>-0.395915</td>\n",
       "      <td>-0.448529</td>\n",
       "      <td>NaN</td>\n",
       "      <td>-0.042266</td>\n",
       "      <td>-0.052539</td>\n",
       "      <td>-0.010817</td>\n",
       "      <td>-0.028417</td>\n",
       "      <td>-0.057152</td>\n",
       "      <td>-0.116059</td>\n",
       "      <td>-0.183692</td>\n",
       "      <td>...</td>\n",
       "      <td>-0.388521</td>\n",
       "      <td>-0.381422</td>\n",
       "      <td>-0.351250</td>\n",
       "      <td>-0.311344</td>\n",
       "      <td>-0.200090</td>\n",
       "      <td>-0.308732</td>\n",
       "      <td>-0.176698</td>\n",
       "      <td>-0.020756</td>\n",
       "      <td>-0.024106</td>\n",
       "      <td>neg</td>\n",
       "    </tr>\n",
       "    <tr>\n",
       "      <th>27133</th>\n",
       "      <td>-0.405095</td>\n",
       "      <td>NaN</td>\n",
       "      <td>NaN</td>\n",
       "      <td>-0.042266</td>\n",
       "      <td>-0.052539</td>\n",
       "      <td>-0.010817</td>\n",
       "      <td>-0.028417</td>\n",
       "      <td>-0.057152</td>\n",
       "      <td>-0.116059</td>\n",
       "      <td>-0.174248</td>\n",
       "      <td>...</td>\n",
       "      <td>-0.387552</td>\n",
       "      <td>-0.380854</td>\n",
       "      <td>-0.347502</td>\n",
       "      <td>-0.309296</td>\n",
       "      <td>-0.198476</td>\n",
       "      <td>-0.308665</td>\n",
       "      <td>-0.176698</td>\n",
       "      <td>NaN</td>\n",
       "      <td>NaN</td>\n",
       "      <td>neg</td>\n",
       "    </tr>\n",
       "    <tr>\n",
       "      <th>31010</th>\n",
       "      <td>-0.089166</td>\n",
       "      <td>NaN</td>\n",
       "      <td>NaN</td>\n",
       "      <td>NaN</td>\n",
       "      <td>NaN</td>\n",
       "      <td>-0.010817</td>\n",
       "      <td>-0.028417</td>\n",
       "      <td>-0.057152</td>\n",
       "      <td>-0.116059</td>\n",
       "      <td>-0.183692</td>\n",
       "      <td>...</td>\n",
       "      <td>-0.388521</td>\n",
       "      <td>-0.381422</td>\n",
       "      <td>-0.351250</td>\n",
       "      <td>-0.311344</td>\n",
       "      <td>-0.200090</td>\n",
       "      <td>-0.308732</td>\n",
       "      <td>-0.176698</td>\n",
       "      <td>NaN</td>\n",
       "      <td>NaN</td>\n",
       "      <td>neg</td>\n",
       "    </tr>\n",
       "    <tr>\n",
       "      <th>34371</th>\n",
       "      <td>-0.346090</td>\n",
       "      <td>NaN</td>\n",
       "      <td>NaN</td>\n",
       "      <td>-0.042266</td>\n",
       "      <td>-0.052539</td>\n",
       "      <td>-0.010817</td>\n",
       "      <td>-0.028417</td>\n",
       "      <td>-0.057152</td>\n",
       "      <td>0.006136</td>\n",
       "      <td>0.109004</td>\n",
       "      <td>...</td>\n",
       "      <td>-0.336169</td>\n",
       "      <td>-0.335255</td>\n",
       "      <td>-0.295124</td>\n",
       "      <td>-0.204195</td>\n",
       "      <td>-0.168655</td>\n",
       "      <td>-0.308028</td>\n",
       "      <td>-0.176698</td>\n",
       "      <td>NaN</td>\n",
       "      <td>NaN</td>\n",
       "      <td>neg</td>\n",
       "    </tr>\n",
       "    <tr>\n",
       "      <th>39246</th>\n",
       "      <td>1.114734</td>\n",
       "      <td>-0.448529</td>\n",
       "      <td>-0.004721</td>\n",
       "      <td>-0.042266</td>\n",
       "      <td>-0.052539</td>\n",
       "      <td>-0.010817</td>\n",
       "      <td>-0.028417</td>\n",
       "      <td>-0.057152</td>\n",
       "      <td>-0.116059</td>\n",
       "      <td>-0.183692</td>\n",
       "      <td>...</td>\n",
       "      <td>-0.388521</td>\n",
       "      <td>-0.381422</td>\n",
       "      <td>-0.351250</td>\n",
       "      <td>-0.311344</td>\n",
       "      <td>-0.200090</td>\n",
       "      <td>-0.308732</td>\n",
       "      <td>-0.176698</td>\n",
       "      <td>-0.020756</td>\n",
       "      <td>-0.024106</td>\n",
       "      <td>neg</td>\n",
       "    </tr>\n",
       "    <tr>\n",
       "      <th>43732</th>\n",
       "      <td>0.280125</td>\n",
       "      <td>-0.448529</td>\n",
       "      <td>-0.004721</td>\n",
       "      <td>-0.042266</td>\n",
       "      <td>-0.052539</td>\n",
       "      <td>-0.010817</td>\n",
       "      <td>-0.028417</td>\n",
       "      <td>-0.057152</td>\n",
       "      <td>-0.116059</td>\n",
       "      <td>-0.183692</td>\n",
       "      <td>...</td>\n",
       "      <td>-0.388521</td>\n",
       "      <td>-0.381422</td>\n",
       "      <td>-0.351250</td>\n",
       "      <td>-0.311344</td>\n",
       "      <td>-0.200090</td>\n",
       "      <td>-0.308732</td>\n",
       "      <td>-0.176698</td>\n",
       "      <td>-0.020756</td>\n",
       "      <td>-0.024106</td>\n",
       "      <td>neg</td>\n",
       "    </tr>\n",
       "    <tr>\n",
       "      <th>44485</th>\n",
       "      <td>-0.262133</td>\n",
       "      <td>-0.448529</td>\n",
       "      <td>-0.004721</td>\n",
       "      <td>-0.042266</td>\n",
       "      <td>-0.052539</td>\n",
       "      <td>-0.010817</td>\n",
       "      <td>-0.028417</td>\n",
       "      <td>-0.057152</td>\n",
       "      <td>-0.116059</td>\n",
       "      <td>-0.183692</td>\n",
       "      <td>...</td>\n",
       "      <td>-0.388521</td>\n",
       "      <td>-0.381422</td>\n",
       "      <td>-0.351250</td>\n",
       "      <td>-0.311344</td>\n",
       "      <td>-0.200090</td>\n",
       "      <td>-0.308732</td>\n",
       "      <td>-0.176698</td>\n",
       "      <td>-0.020756</td>\n",
       "      <td>-0.024106</td>\n",
       "      <td>neg</td>\n",
       "    </tr>\n",
       "    <tr>\n",
       "      <th>46973</th>\n",
       "      <td>0.615378</td>\n",
       "      <td>-0.448529</td>\n",
       "      <td>-0.004721</td>\n",
       "      <td>-0.042266</td>\n",
       "      <td>-0.052539</td>\n",
       "      <td>-0.010817</td>\n",
       "      <td>-0.028417</td>\n",
       "      <td>-0.057152</td>\n",
       "      <td>-0.116059</td>\n",
       "      <td>-0.183692</td>\n",
       "      <td>...</td>\n",
       "      <td>-0.388521</td>\n",
       "      <td>-0.381422</td>\n",
       "      <td>-0.351250</td>\n",
       "      <td>-0.311344</td>\n",
       "      <td>-0.200090</td>\n",
       "      <td>-0.308732</td>\n",
       "      <td>-0.176698</td>\n",
       "      <td>-0.020756</td>\n",
       "      <td>-0.024106</td>\n",
       "      <td>neg</td>\n",
       "    </tr>\n",
       "    <tr>\n",
       "      <th>49353</th>\n",
       "      <td>6.029927</td>\n",
       "      <td>NaN</td>\n",
       "      <td>NaN</td>\n",
       "      <td>-0.042266</td>\n",
       "      <td>-0.052539</td>\n",
       "      <td>-0.010817</td>\n",
       "      <td>-0.028417</td>\n",
       "      <td>-0.057152</td>\n",
       "      <td>-0.116059</td>\n",
       "      <td>-0.183692</td>\n",
       "      <td>...</td>\n",
       "      <td>-0.388521</td>\n",
       "      <td>-0.381422</td>\n",
       "      <td>-0.351250</td>\n",
       "      <td>-0.311344</td>\n",
       "      <td>-0.200090</td>\n",
       "      <td>-0.308732</td>\n",
       "      <td>-0.176698</td>\n",
       "      <td>NaN</td>\n",
       "      <td>NaN</td>\n",
       "      <td>neg</td>\n",
       "    </tr>\n",
       "    <tr>\n",
       "      <th>51309</th>\n",
       "      <td>-0.089166</td>\n",
       "      <td>NaN</td>\n",
       "      <td>NaN</td>\n",
       "      <td>NaN</td>\n",
       "      <td>NaN</td>\n",
       "      <td>-0.010817</td>\n",
       "      <td>-0.028417</td>\n",
       "      <td>-0.057152</td>\n",
       "      <td>-0.116059</td>\n",
       "      <td>-0.183692</td>\n",
       "      <td>...</td>\n",
       "      <td>-0.388521</td>\n",
       "      <td>-0.381422</td>\n",
       "      <td>-0.351250</td>\n",
       "      <td>-0.311344</td>\n",
       "      <td>-0.200090</td>\n",
       "      <td>-0.308732</td>\n",
       "      <td>-0.176698</td>\n",
       "      <td>NaN</td>\n",
       "      <td>NaN</td>\n",
       "      <td>neg</td>\n",
       "    </tr>\n",
       "    <tr>\n",
       "      <th>52814</th>\n",
       "      <td>-0.405907</td>\n",
       "      <td>NaN</td>\n",
       "      <td>NaN</td>\n",
       "      <td>-0.042266</td>\n",
       "      <td>-0.052539</td>\n",
       "      <td>-0.010817</td>\n",
       "      <td>-0.028417</td>\n",
       "      <td>-0.057152</td>\n",
       "      <td>-0.116059</td>\n",
       "      <td>-0.176760</td>\n",
       "      <td>...</td>\n",
       "      <td>-0.387630</td>\n",
       "      <td>-0.380965</td>\n",
       "      <td>-0.347749</td>\n",
       "      <td>-0.310766</td>\n",
       "      <td>-0.199928</td>\n",
       "      <td>-0.308732</td>\n",
       "      <td>-0.176698</td>\n",
       "      <td>NaN</td>\n",
       "      <td>NaN</td>\n",
       "      <td>neg</td>\n",
       "    </tr>\n",
       "  </tbody>\n",
       "</table>\n",
       "<p>15 rows × 163 columns</p>\n",
       "</div>"
      ],
      "text/plain": [
       "           aa00      ac00      ad00      ae00      af00      ag00      ag01  \\\n",
       "877    0.428138 -0.448529 -0.004721 -0.042266 -0.052539 -0.010817 -0.028417   \n",
       "7184  -0.406733       NaN       NaN -0.042266 -0.052539 -0.010817 -0.028417   \n",
       "9334   0.280125 -0.448529 -0.004721 -0.042266 -0.052539 -0.010817 -0.028417   \n",
       "9456   2.350827 -0.448529       NaN -0.042266 -0.052539 -0.010817 -0.028417   \n",
       "19164 -0.395915 -0.448529       NaN -0.042266 -0.052539 -0.010817 -0.028417   \n",
       "27133 -0.405095       NaN       NaN -0.042266 -0.052539 -0.010817 -0.028417   \n",
       "31010 -0.089166       NaN       NaN       NaN       NaN -0.010817 -0.028417   \n",
       "34371 -0.346090       NaN       NaN -0.042266 -0.052539 -0.010817 -0.028417   \n",
       "39246  1.114734 -0.448529 -0.004721 -0.042266 -0.052539 -0.010817 -0.028417   \n",
       "43732  0.280125 -0.448529 -0.004721 -0.042266 -0.052539 -0.010817 -0.028417   \n",
       "44485 -0.262133 -0.448529 -0.004721 -0.042266 -0.052539 -0.010817 -0.028417   \n",
       "46973  0.615378 -0.448529 -0.004721 -0.042266 -0.052539 -0.010817 -0.028417   \n",
       "49353  6.029927       NaN       NaN -0.042266 -0.052539 -0.010817 -0.028417   \n",
       "51309 -0.089166       NaN       NaN       NaN       NaN -0.010817 -0.028417   \n",
       "52814 -0.405907       NaN       NaN -0.042266 -0.052539 -0.010817 -0.028417   \n",
       "\n",
       "           ag02      ag03      ag04  ...      ee03      ee04      ee05  \\\n",
       "877   -0.057152 -0.116059 -0.183692  ... -0.388521 -0.381422 -0.351250   \n",
       "7184  -0.057152 -0.116059 -0.179395  ... -0.387961 -0.381309 -0.351200   \n",
       "9334  -0.057152 -0.116059 -0.183692  ... -0.388521 -0.381422 -0.351250   \n",
       "9456  -0.057152 -0.116059 -0.183692  ... -0.388521 -0.381422 -0.351250   \n",
       "19164 -0.057152 -0.116059 -0.183692  ... -0.388521 -0.381422 -0.351250   \n",
       "27133 -0.057152 -0.116059 -0.174248  ... -0.387552 -0.380854 -0.347502   \n",
       "31010 -0.057152 -0.116059 -0.183692  ... -0.388521 -0.381422 -0.351250   \n",
       "34371 -0.057152  0.006136  0.109004  ... -0.336169 -0.335255 -0.295124   \n",
       "39246 -0.057152 -0.116059 -0.183692  ... -0.388521 -0.381422 -0.351250   \n",
       "43732 -0.057152 -0.116059 -0.183692  ... -0.388521 -0.381422 -0.351250   \n",
       "44485 -0.057152 -0.116059 -0.183692  ... -0.388521 -0.381422 -0.351250   \n",
       "46973 -0.057152 -0.116059 -0.183692  ... -0.388521 -0.381422 -0.351250   \n",
       "49353 -0.057152 -0.116059 -0.183692  ... -0.388521 -0.381422 -0.351250   \n",
       "51309 -0.057152 -0.116059 -0.183692  ... -0.388521 -0.381422 -0.351250   \n",
       "52814 -0.057152 -0.116059 -0.176760  ... -0.387630 -0.380965 -0.347749   \n",
       "\n",
       "           ee06      ee07      ee08      ee09      ef00      eg00  class  \n",
       "877   -0.311344 -0.200090 -0.308732 -0.176698 -0.020756 -0.024106    neg  \n",
       "7184  -0.311251 -0.199928 -0.308732 -0.176698       NaN       NaN    neg  \n",
       "9334  -0.311344 -0.200090 -0.308732 -0.176698 -0.020756 -0.024106    neg  \n",
       "9456  -0.311344 -0.200090 -0.308732 -0.176698 -0.020756 -0.024106    neg  \n",
       "19164 -0.311344 -0.200090 -0.308732 -0.176698 -0.020756 -0.024106    neg  \n",
       "27133 -0.309296 -0.198476 -0.308665 -0.176698       NaN       NaN    neg  \n",
       "31010 -0.311344 -0.200090 -0.308732 -0.176698       NaN       NaN    neg  \n",
       "34371 -0.204195 -0.168655 -0.308028 -0.176698       NaN       NaN    neg  \n",
       "39246 -0.311344 -0.200090 -0.308732 -0.176698 -0.020756 -0.024106    neg  \n",
       "43732 -0.311344 -0.200090 -0.308732 -0.176698 -0.020756 -0.024106    neg  \n",
       "44485 -0.311344 -0.200090 -0.308732 -0.176698 -0.020756 -0.024106    neg  \n",
       "46973 -0.311344 -0.200090 -0.308732 -0.176698 -0.020756 -0.024106    neg  \n",
       "49353 -0.311344 -0.200090 -0.308732 -0.176698       NaN       NaN    neg  \n",
       "51309 -0.311344 -0.200090 -0.308732 -0.176698       NaN       NaN    neg  \n",
       "52814 -0.310766 -0.199928 -0.308732 -0.176698       NaN       NaN    neg  \n",
       "\n",
       "[15 rows x 163 columns]"
      ]
     },
     "execution_count": 46,
     "metadata": {},
     "output_type": "execute_result"
    }
   ],
   "source": [
    "dfneg = dfneg[~((dfneg < (Q1neg - 1.5*IQRneg)) | (dfneg > (Q3neg + 1.5*IQRneg))).any(axis=1)]\n",
    "dfneg"
   ]
  },
  {
   "cell_type": "markdown",
   "id": "e45c4802",
   "metadata": {},
   "source": [
    "The next step would be responsible for recovering the dataset with negative and positive values."
   ]
  },
  {
   "cell_type": "markdown",
   "id": "6e23a3b1",
   "metadata": {},
   "source": [
    "df2 = dfpos.append(dfneg, ignore_index= True)\n",
    "df2.info()"
   ]
  },
  {
   "cell_type": "markdown",
   "id": "a857dc7c",
   "metadata": {},
   "source": [
    "<div style=\"text-align: justify\">As it is possible to verify above, for a dataset which imputed null values through its median, after analysing and dropping outliers would rest only 8 rows and 163 features! Therefore this step was withdrawn from the main model developed.</div>"
   ]
  },
  {
   "cell_type": "markdown",
   "id": "610145e8",
   "metadata": {},
   "source": [
    "## 6- APLLYING SMOTE TO REBALANCE THE DATASET"
   ]
  },
  {
   "cell_type": "markdown",
   "id": "11602588",
   "metadata": {},
   "source": [
    "<div style=\"text-align: justify\">As it was identified during the exploratory data analysis, the dataset is highly unbalanced regarding positive and negative observations, thus, it is an important step to improve accuracy of machine learning model balancing the data. This balacing of the data can be made by oversampling and undersampling. In this project, a method of oversampling will be used to generate synthetic observations for positive classes. The method applied will be SMOTE, and it is described below. The first step consists in splitting the dataset in independent variables and dependent.</div>"
   ]
  },
  {
   "cell_type": "code",
   "execution_count": 47,
   "id": "267b833d",
   "metadata": {
    "scrolled": true
   },
   "outputs": [
    {
     "data": {
      "text/plain": [
       "((59580, 162), (59580,))"
      ]
     },
     "execution_count": 47,
     "metadata": {},
     "output_type": "execute_result"
    }
   ],
   "source": [
    "#Splitting the dataset in dependent and independent variables\n",
    "X = df3.drop('class', axis = 1)   #dependent variable \n",
    "y = df3['class']\n",
    "X.shape, y.shape"
   ]
  },
  {
   "cell_type": "markdown",
   "id": "bdd7b543",
   "metadata": {},
   "source": [
    "<div style=\"text-align: justify\">As it follows, it is applyied the SMOTE algorithm, which will rebalance the observations in the dataset through oversampling. After applying the function is possible to see the new dataset created has 117176 rows.</div>"
   ]
  },
  {
   "cell_type": "code",
   "execution_count": 48,
   "id": "ffc54889",
   "metadata": {},
   "outputs": [],
   "source": [
    "smt = SMOTE()\n",
    "\n",
    "X, y= smt.fit_resample(X, y)"
   ]
  },
  {
   "cell_type": "code",
   "execution_count": 49,
   "id": "82de4fb6",
   "metadata": {
    "scrolled": true
   },
   "outputs": [
    {
     "data": {
      "text/plain": [
       "((117176, 162), (117176,))"
      ]
     },
     "execution_count": 49,
     "metadata": {},
     "output_type": "execute_result"
    }
   ],
   "source": [
    "X.shape, y.shape"
   ]
  },
  {
   "cell_type": "markdown",
   "id": "b42f9e42",
   "metadata": {},
   "source": [
    "## 7- USING PCA METHOD TO DISCOVER NUMBER OF FEATURES TO RATAIN 99.5% OF DATA\n",
    "\n",
    "<div style=\"text-align: justify\">The next step will be using the PCA method to answer the task proposed on the assignement. To do this process, the first process is enconding the column 'class', to have it as number, and as it follows, verify through the array of the variance ratio, when it will have accumulated 99.5%. </div>"
   ]
  },
  {
   "cell_type": "code",
   "execution_count": 50,
   "id": "66f89e65",
   "metadata": {
    "scrolled": false
   },
   "outputs": [
    {
     "name": "stdout",
     "output_type": "stream",
     "text": [
      "[0.32082464 0.42219999 0.48079846 0.52511034 0.56561721 0.59667404\n",
      " 0.62687222 0.6526263  0.67765625 0.69652502 0.71198545 0.72638512\n",
      " 0.74050092 0.75259189 0.76380761 0.77455835 0.78385022 0.79288228\n",
      " 0.80174476 0.80983231 0.81754421 0.8247086  0.83179425 0.83873343\n",
      " 0.84517429 0.85152623 0.85749221 0.86333505 0.86881817 0.874089\n",
      " 0.87895741 0.88347738 0.88783014 0.8920325  0.89581775 0.89939352\n",
      " 0.90291701 0.90636799 0.90971441 0.91295022 0.9161044  0.91898429\n",
      " 0.92178853 0.92449832 0.92709084 0.92955092 0.93198606 0.93435075\n",
      " 0.93663862 0.93885061 0.94098469 0.94305138 0.94502472 0.94694573\n",
      " 0.94882053 0.95063096 0.95241149 0.95417037 0.95587438 0.95747729\n",
      " 0.95900595 0.96052156 0.96199964 0.9633952  0.96476331 0.96608909\n",
      " 0.96735718 0.968595   0.96975664 0.97087597 0.97196396 0.97303568\n",
      " 0.97401862 0.97499193 0.97595894 0.97690811 0.97782749 0.97869696\n",
      " 0.97952263 0.98034205 0.98110667 0.98185401 0.9825789  0.9832813\n",
      " 0.98397188 0.98463146 0.98525381 0.98584564 0.98641429 0.98697754\n",
      " 0.98753515 0.98807864 0.98859612 0.98909713 0.98956755 0.990031\n",
      " 0.99047438 0.99090614 0.9913361  0.99175026 0.99215857 0.99255538\n",
      " 0.99294804 0.99332744 0.9936834  0.99402806 0.99436508 0.99469092\n",
      " 0.99500785 0.9953144  0.99560457 0.99588913 0.99614934 0.99640021\n",
      " 0.99664492 0.99687229 0.99709483 0.99730598 0.99749687 0.99768146\n",
      " 0.99785446 0.99802174 0.99818264 0.99833945 0.99847847 0.99861376\n",
      " 0.99873843 0.99885714 0.99897134 0.99908273 0.99917263 0.99925891\n",
      " 0.99933899 0.99941041 0.99947534 0.99953866 0.99959715 0.99965434\n",
      " 0.99970915 0.99976258 0.99981493 0.99985232 0.9998879  0.9999174\n",
      " 0.99994044 0.99995672 0.99997234 0.99998563 0.99999551 0.99999885\n",
      " 0.99999966 0.99999994 0.99999999 1.         1.         1.\n",
      " 1.         1.         1.         1.         1.         1.        ]\n"
     ]
    },
    {
     "data": {
      "image/png": "[encoded data removed]",
      "text/plain": [
       "<Figure size 432x288 with 1 Axes>"
      ]
     },
     "metadata": {
      "needs_background": "light"
     },
     "output_type": "display_data"
    }
   ],
   "source": [
    "pca = PCA().fit(X)\n",
    "variance_ratio = np.cumsum(pca.explained_variance_ratio_)\n",
    "plt.plot(variance_ratio)\n",
    "plt.xlabel('number of components')\n",
    "plt.ylabel('cumulative explained variance');\n",
    "print(np.cumsum(pca.explained_variance_ratio_))"
   ]
  },
  {
   "cell_type": "markdown",
   "id": "7bb45caa",
   "metadata": {},
   "source": [
    "To verify the amount of necessary features, instead of just relying in the graphic visualization, it was created a loop to verify the first value above 99.5%."
   ]
  },
  {
   "cell_type": "code",
   "execution_count": 51,
   "id": "1ca5b38e",
   "metadata": {},
   "outputs": [
    {
     "name": "stdout",
     "output_type": "stream",
     "text": [
      "It is possible to verify that to retain 99.5% of information variation in the dataset, it is necessary 109 features.\n"
     ]
    }
   ],
   "source": [
    "#Seeking on the array the minimun number of features to retain 99.5% of information in the dataset.\n",
    "\n",
    "features= -1\n",
    "for i in range(len(variance_ratio)):\n",
    "    if variance_ratio[i] > 0.995:\n",
    "        features= i\n",
    "        break\n",
    "features_needed = features+1\n",
    "print('It is possible to verify that to retain 99.5% of information variation in the dataset, it is necessary {} features.'.format(features_needed))"
   ]
  },
  {
   "cell_type": "code",
   "execution_count": 52,
   "id": "22063fa7",
   "metadata": {},
   "outputs": [],
   "source": [
    "pca = PCA(features_needed)\n",
    "projected = pca.fit_transform(X)"
   ]
  },
  {
   "cell_type": "code",
   "execution_count": 53,
   "id": "982c7e23",
   "metadata": {},
   "outputs": [
    {
     "data": {
      "text/plain": [
       "((117176, 109), (117176,))"
      ]
     },
     "execution_count": 53,
     "metadata": {},
     "output_type": "execute_result"
    }
   ],
   "source": [
    "projected.shape, y.shape"
   ]
  },
  {
   "cell_type": "code",
   "execution_count": 54,
   "id": "f02576d2",
   "metadata": {},
   "outputs": [],
   "source": [
    "#Creating an authomatic way to name columns aiming to run sequences of tests\n",
    "columns =[]\n",
    "for i in range(1, features_needed+1):\n",
    "    columns = np.append(columns, 'C'+str(i))"
   ]
  },
  {
   "cell_type": "code",
   "execution_count": 55,
   "id": "1326c172",
   "metadata": {},
   "outputs": [],
   "source": [
    "X_pca = pd.DataFrame(projected, columns = columns)\n",
    "y.replace(['pos','neg'],[1,0], inplace=True)"
   ]
  },
  {
   "cell_type": "code",
   "execution_count": 56,
   "id": "5afb3685",
   "metadata": {},
   "outputs": [
    {
     "data": {
      "text/html": [
       "<div>\n",
       "<style scoped>\n",
       "    .dataframe tbody tr th:only-of-type {\n",
       "        vertical-align: middle;\n",
       "    }\n",
       "\n",
       "    .dataframe tbody tr th {\n",
       "        vertical-align: top;\n",
       "    }\n",
       "\n",
       "    .dataframe thead th {\n",
       "        text-align: right;\n",
       "    }\n",
       "</style>\n",
       "<table border=\"1\" class=\"dataframe\">\n",
       "  <thead>\n",
       "    <tr style=\"text-align: right;\">\n",
       "      <th></th>\n",
       "      <th>C1</th>\n",
       "      <th>C2</th>\n",
       "      <th>C3</th>\n",
       "      <th>C4</th>\n",
       "      <th>C5</th>\n",
       "      <th>C6</th>\n",
       "      <th>C7</th>\n",
       "      <th>C8</th>\n",
       "      <th>C9</th>\n",
       "      <th>C10</th>\n",
       "      <th>...</th>\n",
       "      <th>C100</th>\n",
       "      <th>C101</th>\n",
       "      <th>C102</th>\n",
       "      <th>C103</th>\n",
       "      <th>C104</th>\n",
       "      <th>C105</th>\n",
       "      <th>C106</th>\n",
       "      <th>C107</th>\n",
       "      <th>C108</th>\n",
       "      <th>C109</th>\n",
       "    </tr>\n",
       "  </thead>\n",
       "  <tbody>\n",
       "    <tr>\n",
       "      <th>0</th>\n",
       "      <td>-11.108537</td>\n",
       "      <td>-1.577187</td>\n",
       "      <td>-0.590769</td>\n",
       "      <td>0.841192</td>\n",
       "      <td>1.541744</td>\n",
       "      <td>0.336983</td>\n",
       "      <td>-0.055223</td>\n",
       "      <td>0.163702</td>\n",
       "      <td>-0.171207</td>\n",
       "      <td>-0.236398</td>\n",
       "      <td>...</td>\n",
       "      <td>0.144345</td>\n",
       "      <td>1.471309</td>\n",
       "      <td>-0.355077</td>\n",
       "      <td>0.092845</td>\n",
       "      <td>0.547389</td>\n",
       "      <td>0.066427</td>\n",
       "      <td>-0.088293</td>\n",
       "      <td>-0.149509</td>\n",
       "      <td>-0.001109</td>\n",
       "      <td>-0.162835</td>\n",
       "    </tr>\n",
       "    <tr>\n",
       "      <th>1</th>\n",
       "      <td>-13.748262</td>\n",
       "      <td>-0.608540</td>\n",
       "      <td>0.012992</td>\n",
       "      <td>1.820262</td>\n",
       "      <td>0.573382</td>\n",
       "      <td>0.541601</td>\n",
       "      <td>-0.067363</td>\n",
       "      <td>0.026564</td>\n",
       "      <td>-0.433262</td>\n",
       "      <td>-0.039634</td>\n",
       "      <td>...</td>\n",
       "      <td>-0.840497</td>\n",
       "      <td>-0.991571</td>\n",
       "      <td>-0.262147</td>\n",
       "      <td>0.170151</td>\n",
       "      <td>-0.039170</td>\n",
       "      <td>-0.203342</td>\n",
       "      <td>0.139627</td>\n",
       "      <td>-0.023158</td>\n",
       "      <td>-0.100525</td>\n",
       "      <td>0.046784</td>\n",
       "    </tr>\n",
       "    <tr>\n",
       "      <th>2</th>\n",
       "      <td>-14.257252</td>\n",
       "      <td>-0.287933</td>\n",
       "      <td>0.156911</td>\n",
       "      <td>2.139628</td>\n",
       "      <td>0.479917</td>\n",
       "      <td>0.462466</td>\n",
       "      <td>-0.347768</td>\n",
       "      <td>-0.207824</td>\n",
       "      <td>-0.197103</td>\n",
       "      <td>-0.209220</td>\n",
       "      <td>...</td>\n",
       "      <td>0.092178</td>\n",
       "      <td>-0.294279</td>\n",
       "      <td>0.103932</td>\n",
       "      <td>0.025561</td>\n",
       "      <td>-0.202373</td>\n",
       "      <td>0.063207</td>\n",
       "      <td>-0.214575</td>\n",
       "      <td>-0.060671</td>\n",
       "      <td>0.025759</td>\n",
       "      <td>0.066026</td>\n",
       "    </tr>\n",
       "    <tr>\n",
       "      <th>3</th>\n",
       "      <td>-16.071595</td>\n",
       "      <td>0.152933</td>\n",
       "      <td>0.697719</td>\n",
       "      <td>2.454959</td>\n",
       "      <td>0.092762</td>\n",
       "      <td>0.474419</td>\n",
       "      <td>-0.216115</td>\n",
       "      <td>-0.247932</td>\n",
       "      <td>-0.238198</td>\n",
       "      <td>0.016587</td>\n",
       "      <td>...</td>\n",
       "      <td>0.282219</td>\n",
       "      <td>-0.162966</td>\n",
       "      <td>0.090729</td>\n",
       "      <td>0.042325</td>\n",
       "      <td>-0.162873</td>\n",
       "      <td>-0.019646</td>\n",
       "      <td>-0.244123</td>\n",
       "      <td>-0.030493</td>\n",
       "      <td>-0.383518</td>\n",
       "      <td>-0.260022</td>\n",
       "    </tr>\n",
       "    <tr>\n",
       "      <th>4</th>\n",
       "      <td>-12.976145</td>\n",
       "      <td>-0.686456</td>\n",
       "      <td>-0.020229</td>\n",
       "      <td>1.313439</td>\n",
       "      <td>0.838978</td>\n",
       "      <td>0.250142</td>\n",
       "      <td>-0.337550</td>\n",
       "      <td>-0.155160</td>\n",
       "      <td>-0.225064</td>\n",
       "      <td>-0.241277</td>\n",
       "      <td>...</td>\n",
       "      <td>0.059637</td>\n",
       "      <td>-0.235445</td>\n",
       "      <td>0.186440</td>\n",
       "      <td>-0.119549</td>\n",
       "      <td>-0.170565</td>\n",
       "      <td>-0.206081</td>\n",
       "      <td>-0.088424</td>\n",
       "      <td>-0.026702</td>\n",
       "      <td>0.039608</td>\n",
       "      <td>0.003330</td>\n",
       "    </tr>\n",
       "  </tbody>\n",
       "</table>\n",
       "<p>5 rows × 109 columns</p>\n",
       "</div>"
      ],
      "text/plain": [
       "          C1        C2        C3        C4        C5        C6        C7  \\\n",
       "0 -11.108537 -1.577187 -0.590769  0.841192  1.541744  0.336983 -0.055223   \n",
       "1 -13.748262 -0.608540  0.012992  1.820262  0.573382  0.541601 -0.067363   \n",
       "2 -14.257252 -0.287933  0.156911  2.139628  0.479917  0.462466 -0.347768   \n",
       "3 -16.071595  0.152933  0.697719  2.454959  0.092762  0.474419 -0.216115   \n",
       "4 -12.976145 -0.686456 -0.020229  1.313439  0.838978  0.250142 -0.337550   \n",
       "\n",
       "         C8        C9       C10  ...      C100      C101      C102      C103  \\\n",
       "0  0.163702 -0.171207 -0.236398  ...  0.144345  1.471309 -0.355077  0.092845   \n",
       "1  0.026564 -0.433262 -0.039634  ... -0.840497 -0.991571 -0.262147  0.170151   \n",
       "2 -0.207824 -0.197103 -0.209220  ...  0.092178 -0.294279  0.103932  0.025561   \n",
       "3 -0.247932 -0.238198  0.016587  ...  0.282219 -0.162966  0.090729  0.042325   \n",
       "4 -0.155160 -0.225064 -0.241277  ...  0.059637 -0.235445  0.186440 -0.119549   \n",
       "\n",
       "       C104      C105      C106      C107      C108      C109  \n",
       "0  0.547389  0.066427 -0.088293 -0.149509 -0.001109 -0.162835  \n",
       "1 -0.039170 -0.203342  0.139627 -0.023158 -0.100525  0.046784  \n",
       "2 -0.202373  0.063207 -0.214575 -0.060671  0.025759  0.066026  \n",
       "3 -0.162873 -0.019646 -0.244123 -0.030493 -0.383518 -0.260022  \n",
       "4 -0.170565 -0.206081 -0.088424 -0.026702  0.039608  0.003330  \n",
       "\n",
       "[5 rows x 109 columns]"
      ]
     },
     "execution_count": 56,
     "metadata": {},
     "output_type": "execute_result"
    }
   ],
   "source": [
    "X_pca.head()"
   ]
  },
  {
   "cell_type": "code",
   "execution_count": 57,
   "id": "f64a62fa",
   "metadata": {
    "scrolled": true
   },
   "outputs": [
    {
     "data": {
      "text/plain": [
       "(117176,)"
      ]
     },
     "execution_count": 57,
     "metadata": {},
     "output_type": "execute_result"
    }
   ],
   "source": [
    "y.shape"
   ]
  },
  {
   "cell_type": "markdown",
   "id": "b9702b91",
   "metadata": {},
   "source": [
    "## 8- APPLYING MACHINE LEARN METHODS TO PREDICT FAILS"
   ]
  },
  {
   "cell_type": "markdown",
   "id": "3b504d25",
   "metadata": {},
   "source": [
    "<div style=\"text-align: justify\">The first step to apply Machine Learn Methods is splitting the dataset to be analysed in train variables and test variables. The train variables are those used to train the models to create predictions, and the test variables are those used to validate the model and analyse its accurary. The dataset was already split in dependent variable and independent variable before to apply SMOTE and PCA.<br>\n",
    "\n",
    "In the case of this test it will be used a test size of 25% of the sample, and a training size of 75% of the sample. The random state is defined as 1 only to make possible reproductbility.</div>"
   ]
  },
  {
   "cell_type": "code",
   "execution_count": 58,
   "id": "dda02e43",
   "metadata": {},
   "outputs": [],
   "source": [
    "X_pca_train, X_pca_test, y_train, y_test = train_test_split(X_pca, y, random_state = 1, stratify=y, test_size = 0.25)"
   ]
  },
  {
   "cell_type": "code",
   "execution_count": 59,
   "id": "8f98fae9",
   "metadata": {},
   "outputs": [
    {
     "data": {
      "text/plain": [
       "array([43941, 43941])"
      ]
     },
     "execution_count": 59,
     "metadata": {},
     "output_type": "execute_result"
    }
   ],
   "source": [
    "np.bincount(y_train)"
   ]
  },
  {
   "cell_type": "markdown",
   "id": "8f9272c7",
   "metadata": {},
   "source": [
    "<div style=\"text-align: justify\">The final step will be applying different Machine Learning Models to predict wheather a fail was occasioned in the APS system or not. The models explored are Logistic Regression, Linear Discriminant Analysis, K Neighbors Classified, Decision Tree Classifier and Gaussian Naive Bayes. At the beginning, Support Vacuum Machine was also tested, however it did not showed results, therefore it was let of the analysis. </div>"
   ]
  },
  {
   "cell_type": "code",
   "execution_count": 60,
   "id": "49f8e6a7",
   "metadata": {},
   "outputs": [],
   "source": [
    "models = []\n",
    "models.append(('LR', LogisticRegression(solver='liblinear', multi_class='ovr')))\n",
    "models.append(('LDA', LinearDiscriminantAnalysis()))\n",
    "models.append(('KNN', KNeighborsClassifier()))\n",
    "models.append(('CART', DecisionTreeClassifier()))\n",
    "models.append(('NB', GaussianNB()))\n",
    "#models.append(('SVM', SVC(gamma='auto')))"
   ]
  },
  {
   "cell_type": "code",
   "execution_count": 61,
   "id": "8531c9ce",
   "metadata": {},
   "outputs": [
    {
     "name": "stdout",
     "output_type": "stream",
     "text": [
      "LR: 0.960003 (0.001789)\n",
      "LDA: 0.919790 (0.003514)\n",
      "KNN: 0.987460 (0.000958)\n",
      "CART: 0.983933 (0.001552)\n",
      "NB: 0.889943 (0.003389)\n"
     ]
    }
   ],
   "source": [
    "results = []\n",
    "names = []\n",
    "for name, model in models:\n",
    "\tkfold = StratifiedKFold(n_splits=10, random_state=1, shuffle=True)\n",
    "\tcv_results = cross_val_score(model, X_pca_train, y_train, cv=kfold, scoring='accuracy')\n",
    "\tresults.append(cv_results)\n",
    "\tnames.append(name)\n",
    "\tprint('%s: %f (%f)' % (name, cv_results.mean(), cv_results.std()))"
   ]
  },
  {
   "cell_type": "code",
   "execution_count": 62,
   "id": "b5a29842",
   "metadata": {},
   "outputs": [
    {
     "data": {
      "image/png": "[encoded data removed]",
      "text/plain": [
       "<Figure size 432x288 with 1 Axes>"
      ]
     },
     "metadata": {
      "needs_background": "light"
     },
     "output_type": "display_data"
    }
   ],
   "source": [
    "pyplot.boxplot(results, labels=names)\n",
    "pyplot.title('Algorithm Comparison')\n",
    "pyplot.show()"
   ]
  },
  {
   "cell_type": "code",
   "execution_count": 63,
   "id": "ee01e9cc",
   "metadata": {},
   "outputs": [],
   "source": [
    "model =  KNeighborsClassifier()\n",
    "model.fit(X_pca_train, y_train)\n",
    "y_predict = model.predict(X_pca_test)"
   ]
  },
  {
   "cell_type": "code",
   "execution_count": 64,
   "id": "a79e7a1f",
   "metadata": {
    "scrolled": true
   },
   "outputs": [
    {
     "name": "stdout",
     "output_type": "stream",
     "text": [
      "0.9872328804533351\n",
      "[[14278   369]\n",
      " [    5 14642]]\n"
     ]
    },
    {
     "data": {
      "text/plain": [
       "<AxesSubplot:>"
      ]
     },
     "execution_count": 64,
     "metadata": {},
     "output_type": "execute_result"
    },
    {
     "data": {
      "image/png": "[encoded data removed]",
      "text/plain": [
       "<Figure size 432x288 with 2 Axes>"
      ]
     },
     "metadata": {
      "needs_background": "light"
     },
     "output_type": "display_data"
    }
   ],
   "source": [
    "print(accuracy_score(y_test, y_predict))\n",
    "cm = confusion_matrix(y_test, y_predict)\n",
    "print(cm)\n",
    "sns.heatmap(cm, annot = True)"
   ]
  },
  {
   "cell_type": "code",
   "execution_count": 65,
   "id": "b1a93a12",
   "metadata": {},
   "outputs": [
    {
     "name": "stdout",
     "output_type": "stream",
     "text": [
      "0.9872328804533351 0.9996586331672015\n"
     ]
    }
   ],
   "source": [
    "# Calculate the accuracy and recall\n",
    "accuracy = accuracy_score(y_test, y_predict)\n",
    "\n",
    "recall = recall_score(y_test, y_predict)\n",
    "\n",
    "print(accuracy, recall)"
   ]
  },
  {
   "cell_type": "markdown",
   "id": "5344fdff",
   "metadata": {},
   "source": [
    "## 9- Creating a function for testing\n",
    "\n",
    "<div style=\"text-align: justify\">After analysing the problem, a function was created to try different scenarios in regards to methods explored in this project. The function receive 4 inputs:<br>\n",
    "\n",
    "arg1 - Selects whether or not it should be applyied standardization on the whole dataset before analysis.<br>\n",
    "       arg1 = 1 will call for the standardization of the data <br>\n",
    "       arg1 = any other values will skip the standartization and follow to the next step.<br><br>\n",
    "       \n",
    "arg2 - Selects the kind of imputation will be realized in the dataset.<br>\n",
    "       arg2 = 'mean'. Each column will be imputated by its own mean.<br>\n",
    "       arg2 = 'median'. Each column will be imputated by its own median.<br>\n",
    "       arg2 = 'interpolate'. Each column will be interpolated by linear interpolar method.<br>\n",
    "       arg2 = Any integer. In this case nulls will be replaced by any integer pre-decided and specified.<br><br>\n",
    "                                                                                                                   \n",
    "arg3 - It specifies whether or not outliers should be tracken and dropped of.<br><br>\n",
    "    \n",
    "arg4 - It specifies whether of not a SMOTE should be applyied to rebalance the dataset.</div>"
   ]
  },
  {
   "cell_type": "code",
   "execution_count": 79,
   "id": "a81492fd",
   "metadata": {},
   "outputs": [],
   "source": [
    "def haulage_aps(arg1, arg2, arg3, arg4):\n",
    "    \n",
    "    \n",
    "    #Creating a function to scaling the data\n",
    "    if arg1 == 1:\n",
    "        scaler = StandardScaler()\n",
    "        a = df.drop(columns = ['class'])\n",
    "        scaled = scaler.fit_transform(a)\n",
    "        df2 = pd.DataFrame(scaled, columns=df.drop(columns = ['class']).columns)\n",
    "        df2['class']=df['class']\n",
    "        df2.reset_index(drop = True, inplace=True)\n",
    "        \n",
    "    else:\n",
    "        df2 = df.copy()\n",
    "        \n",
    "    #Filling null data\n",
    "    #Using mean\n",
    "    if arg2 == 'mean':\n",
    "        df3 = df2.fillna(df2.mean())\n",
    "        df3.reset_index(drop = True, inplace=True)\n",
    "    #Using median\n",
    "    elif arg2 == 'median':\n",
    "        df3 = df2.fillna(df2.median())\n",
    "        df3.reset_index(drop = True, inplace=True)\n",
    "    #Using interpolation method:\n",
    "    elif arg2 == 'interpolate':\n",
    "        df3 = df2.interpolate(method='linear', direction = 'forward')\n",
    "        df3.reset_index(drop = True, inplace=True)\n",
    "    else:\n",
    "        df3 = df2.fillna(arg2)\n",
    "        df3.reset_index(drop = True, inplace=True)\n",
    "     \n",
    "    #Deciding whether outliers should be tracked and dropped or not.\n",
    "    if arg3 == 1:\n",
    "        dfpos = df3[(df3['class'] == 'pos')]\n",
    "        Q1pos = dfpos.quantile(0.25)\n",
    "        Q3pos = dfpos.quantile(0.75)\n",
    "        IQRpos = Q3pos - Q1pos\n",
    "        dfpos = dfpos[~((dfpos < (Q1pos - 1.5*IQRpos)) | (dfpos > (Q3pos + 1.5*IQRpos))).any(axis=1)]\n",
    "        dfneg = df3[(df3['class'] == 'neg')]\n",
    "        Q1neg = dfpos.quantile(0.25)\n",
    "        Q3neg = dfpos.quantile(0.75)\n",
    "        IQRneg = Q3neg - Q1neg\n",
    "        dfneg = dfneg[~((dfneg < (Q1neg - 1.5*IQRneg)) | (dfneg > (Q3neg + 1.5*IQRneg))).any(axis=1)]\n",
    "        df3 = dfpos.append(dfneg, ignore_index= True)\n",
    "        \n",
    "    #Splitting the dataset in dependent and independent variables\n",
    "    X = df3.drop('class', axis = 1)   #dependent variable \n",
    "    y = df3['class']\n",
    "    \n",
    "    #Applying Smote if required\n",
    "    if arg4 == 1:\n",
    "        smt = SMOTE()\n",
    "        X, y = smt.fit_resample(X, y)\n",
    "        \n",
    "    \n",
    "    pca = PCA().fit(X)\n",
    "    variance_ratio = np.cumsum(pca.explained_variance_ratio_)\n",
    "           \n",
    "    #Seeking on the array the minimun number of features to retain 99.5% of information in the dataset.\n",
    "    features= -1\n",
    "    for i in range(len(variance_ratio)):\n",
    "        if variance_ratio[i] > 0.995:\n",
    "            features= i\n",
    "            break\n",
    "    \n",
    "    features_needed = features+1\n",
    "    print(\"Features needed to retain 99.5% of the variance: \", features_needed)\n",
    "    pca = PCA(features_needed)\n",
    "    \n",
    "    projected = pca.fit_transform(X)  \n",
    "    #Creating an authomatic way to run sequences of tests\n",
    "    columns =[]\n",
    "    for i in range(1, features_needed+1):\n",
    "        columns = np.append(columns, 'C'+str(i))\n",
    "    \n",
    "    X_pca = pd.DataFrame(projected, columns = columns)\n",
    "    y.replace(['pos','neg'],[1,0], inplace=True)\n",
    "    \n",
    "    #Splitting dataset\n",
    "    X_pca_train, X_pca_test, y_train, y_test = train_test_split(X_pca, y, random_state = 1, stratify=y, test_size = 0.25)\n",
    "    \n",
    "    models = []\n",
    "    models.append(('LR', LogisticRegression(solver='liblinear', multi_class='ovr')))\n",
    "    models.append(('LDA', LinearDiscriminantAnalysis()))\n",
    "    models.append(('KNN', KNeighborsClassifier()))\n",
    "    models.append(('CART', DecisionTreeClassifier()))\n",
    "    models.append(('NB', GaussianNB()))\n",
    "    results = []\n",
    "    names = []\n",
    "    results2 = pd.DataFrame({'Model': [], 'Accuracy_mean':[],'std':[]})\n",
    "    for name, model in models:\n",
    "        kfold = StratifiedKFold(n_splits=10, random_state=1, shuffle=True)\n",
    "        cv_results = cross_val_score(model, X_pca_train, y_train, cv=kfold, scoring='accuracy')\n",
    "        results.append(cv_results)\n",
    "        names.append(name)\n",
    "        new_result2 = {'Model': model, 'Accuracy_mean': cv_results.mean(), 'std': cv_results.std()}\n",
    "        results2 = results2.append(new_result2, ignore_index = True)\n",
    "        print('%s: %f (%f)' % (name, cv_results.mean(), cv_results.std()))\n",
    "    maxindex=results2['Accuracy_mean'].idxmax()\n",
    "    maxmodel=results2.iloc[maxindex, 0]\n",
    "    maxmodel.fit(X_pca_train, y_train)\n",
    "    y_predict = maxmodel.predict(X_pca_test)\n",
    "    pyplot.boxplot(results, labels=names)\n",
    "    pyplot.title('Algorithm Comparison')\n",
    "    pyplot.show()\n",
    "    print('The optimal model selected is:', maxmodel)\n",
    "    cm = confusion_matrix(y_test, y_predict)\n",
    "    sns.heatmap(cm, annot = True)\n",
    "    accuracy = accuracy_score(y_test, y_predict)\n",
    "    recall = recall_score(y_test, y_predict)\n",
    "    print('Accuracy of the optimal model:', accuracy)\n",
    "    print('Recall of the optimal model:', recall)"
   ]
  },
  {
   "cell_type": "code",
   "execution_count": 78,
   "id": "d6c29397",
   "metadata": {
    "scrolled": true
   },
   "outputs": [
    {
     "name": "stdout",
     "output_type": "stream",
     "text": [
      "The following tests will be executed using the function:\n",
      "\n",
      "\n",
      "  Scaling          Imput Drop_outliers SMOTE\n",
      "0      No         Median            No   Yes\n",
      "1      No           Mean            No   Yes\n",
      "2      No  Interpolation            No   Yes\n",
      "3      No              0            No   Yes\n",
      "4      No           9e25            No   Yes\n",
      "5      No         Median            No    No\n",
      "6     Yes              0            No    No\n",
      "7     Yes         Median            No   Yes\n",
      "8      No           9e25           Yes   Yes\n"
     ]
    }
   ],
   "source": [
    "Scaling = ['No', 'No', 'No', 'No', 'No', 'No', 'Yes', 'Yes', 'No']\n",
    "Imput = ['Median', 'Mean', 'Interpolation', '0', '9e25', 'Median', '0', 'Median', '9e25']\n",
    "Drop_outliers = ['No', 'No', 'No', 'No', 'No', 'No', 'No', 'No', 'Yes']\n",
    "SMOTE_Method = ['Yes', 'Yes', 'Yes', 'Yes', 'Yes', 'No', 'No', 'Yes', 'Yes']\n",
    "data = {'Scaling': Scaling, 'Imput': Imput, 'Drop_outliers': Drop_outliers, 'SMOTE': SMOTE_Method}\n",
    "Testes = pd.DataFrame(data)\n",
    "print('The following tests will be executed using the function:\\n\\n')\n",
    "print(Testes)"
   ]
  },
  {
   "cell_type": "markdown",
   "id": "e672c348",
   "metadata": {},
   "source": [
    "The results of the tests can be found below:"
   ]
  },
  {
   "cell_type": "markdown",
   "id": "f219447f",
   "metadata": {},
   "source": [
    "#### Test 0 - Standardization: No, Imputation: Median, Drop_outliers: No, SMOTE: Yes"
   ]
  },
  {
   "cell_type": "code",
   "execution_count": 68,
   "id": "a39e86e8",
   "metadata": {
    "scrolled": true
   },
   "outputs": [
    {
     "name": "stdout",
     "output_type": "stream",
     "text": [
      "Features needed to retain 99.5% of the variance:  6\n",
      "LR: 0.917924 (0.008284)\n",
      "LDA: 0.872443 (0.004184)\n",
      "KNN: 0.968355 (0.001350)\n",
      "CART: 0.965966 (0.002095)\n",
      "NB: 0.912269 (0.016575)\n"
     ]
    },
    {
     "data": {
      "image/png": "[encoded data removed]",
      "text/plain": [
       "<Figure size 432x288 with 1 Axes>"
      ]
     },
     "metadata": {
      "needs_background": "light"
     },
     "output_type": "display_data"
    },
    {
     "name": "stdout",
     "output_type": "stream",
     "text": [
      "The optimal model selected is: KNeighborsClassifier()\n",
      "Accuracy of the optimal model: 0.9699255820304499\n",
      "Recall of the optimal model: 0.9859356864887008\n"
     ]
    },
    {
     "data": {
      "image/png": "[encoded data removed]",
      "text/plain": [
       "<Figure size 432x288 with 2 Axes>"
      ]
     },
     "metadata": {
      "needs_background": "light"
     },
     "output_type": "display_data"
    }
   ],
   "source": [
    "haulage_aps(arg1 = 0, arg2 = 'median', arg3 = 0, arg4 = 1)"
   ]
  },
  {
   "cell_type": "markdown",
   "id": "0b5298fd",
   "metadata": {},
   "source": [
    "#### Test 1 - Standardization: No, Imputation: Mean, Drop_outliers: No, SMOTE: Yes"
   ]
  },
  {
   "cell_type": "code",
   "execution_count": 69,
   "id": "2bbdd617",
   "metadata": {
    "scrolled": true
   },
   "outputs": [
    {
     "name": "stdout",
     "output_type": "stream",
     "text": [
      "Features needed to retain 99.5% of the variance:  6\n",
      "LR: 0.875538 (0.003164)\n",
      "LDA: 0.868221 (0.003234)\n",
      "KNN: 0.969459 (0.001345)\n",
      "CART: 0.974341 (0.001277)\n",
      "NB: 0.857502 (0.021198)\n"
     ]
    },
    {
     "data": {
      "image/png": "[encoded data removed]",
      "text/plain": [
       "<Figure size 432x288 with 1 Axes>"
      ]
     },
     "metadata": {
      "needs_background": "light"
     },
     "output_type": "display_data"
    },
    {
     "name": "stdout",
     "output_type": "stream",
     "text": [
      "The optimal model selected is: DecisionTreeClassifier()\n",
      "Accuracy of the optimal model: 0.9762750051205025\n",
      "Recall of the optimal model: 0.9795862633986482\n"
     ]
    },
    {
     "data": {
      "image/png": "[encoded data removed]",
      "text/plain": [
       "<Figure size 432x288 with 2 Axes>"
      ]
     },
     "metadata": {
      "needs_background": "light"
     },
     "output_type": "display_data"
    }
   ],
   "source": [
    "haulage_aps(arg1 = 0, arg2 = 'mean', arg3 = 0, arg4 = 1)"
   ]
  },
  {
   "cell_type": "markdown",
   "id": "5126257f",
   "metadata": {},
   "source": [
    "#### Test 2 - Standardization: No, Imputation: Interpolate, Drop_outliers: No, SMOTE: Yes"
   ]
  },
  {
   "cell_type": "code",
   "execution_count": 70,
   "id": "cdbb527f",
   "metadata": {
    "scrolled": false
   },
   "outputs": [
    {
     "name": "stdout",
     "output_type": "stream",
     "text": [
      "Features needed to retain 99.5% of the variance:  5\n",
      "LR: 0.915978 (0.001769)\n",
      "LDA: 0.866389 (0.002555)\n",
      "KNN: 0.954541 (0.002048)\n",
      "CART: 0.953585 (0.002110)\n",
      "NB: 0.601899 (0.086115)\n"
     ]
    },
    {
     "data": {
      "image/png": "[encoded data removed]",
      "text/plain": [
       "<Figure size 432x288 with 1 Axes>"
      ]
     },
     "metadata": {
      "needs_background": "light"
     },
     "output_type": "display_data"
    },
    {
     "name": "stdout",
     "output_type": "stream",
     "text": [
      "The optimal model selected is: KNeighborsClassifier()\n",
      "Accuracy of the optimal model: 0.9562026353519492\n",
      "Recall of the optimal model: 0.9718713729774016\n"
     ]
    },
    {
     "data": {
      "image/png": "[encoded data removed]",
      "text/plain": [
       "<Figure size 432x288 with 2 Axes>"
      ]
     },
     "metadata": {
      "needs_background": "light"
     },
     "output_type": "display_data"
    }
   ],
   "source": [
    "haulage_aps(arg1 = 0, arg2 = 'interpolate', arg3 = 0, arg4 = 1)"
   ]
  },
  {
   "cell_type": "markdown",
   "id": "449be437",
   "metadata": {},
   "source": [
    "#### Test 3 - Standardization: No, Imputation: 0, Drop_outliers: No, SMOTE: Yes"
   ]
  },
  {
   "cell_type": "code",
   "execution_count": 71,
   "id": "a3761ae8",
   "metadata": {
    "scrolled": false
   },
   "outputs": [
    {
     "name": "stdout",
     "output_type": "stream",
     "text": [
      "Features needed to retain 99.5% of the variance:  6\n",
      "LR: 0.913429 (0.006755)\n",
      "LDA: 0.871293 (0.003204)\n",
      "KNN: 0.967479 (0.000961)\n",
      "CART: 0.964509 (0.002015)\n",
      "NB: 0.903086 (0.014495)\n"
     ]
    },
    {
     "data": {
      "image/png": "[encoded data removed]",
      "text/plain": [
       "<Figure size 432x288 with 1 Axes>"
      ]
     },
     "metadata": {
      "needs_background": "light"
     },
     "output_type": "display_data"
    },
    {
     "name": "stdout",
     "output_type": "stream",
     "text": [
      "The optimal model selected is: KNeighborsClassifier()\n",
      "Accuracy of the optimal model: 0.9681504744998976\n",
      "Recall of the optimal model: 0.9827951116269543\n"
     ]
    },
    {
     "data": {
      "image/png": "[encoded data removed]",
      "text/plain": [
       "<Figure size 432x288 with 2 Axes>"
      ]
     },
     "metadata": {
      "needs_background": "light"
     },
     "output_type": "display_data"
    }
   ],
   "source": [
    "haulage_aps(arg1 = 0, arg2 = 0, arg3 = 0, arg4 = 1)"
   ]
  },
  {
   "cell_type": "markdown",
   "id": "6f05ec43",
   "metadata": {},
   "source": [
    "#### Test 4 - Standardization: No, Imputation: 9e25, Drop_outliers: No, SMOTE: Yes"
   ]
  },
  {
   "cell_type": "code",
   "execution_count": 72,
   "id": "f0d686c0",
   "metadata": {
    "scrolled": false
   },
   "outputs": [
    {
     "name": "stdout",
     "output_type": "stream",
     "text": [
      "Features needed to retain 99.5% of the variance:  15\n",
      "LR: 0.821579 (0.003543)\n",
      "LDA: 0.805683 (0.003880)\n",
      "KNN: 0.821865 (0.035035)\n",
      "CART: 0.838681 (0.004024)\n",
      "NB: 0.767779 (0.003102)\n"
     ]
    },
    {
     "data": {
      "image/png": "[encoded data removed]",
      "text/plain": [
       "<Figure size 432x288 with 1 Axes>"
      ]
     },
     "metadata": {
      "needs_background": "light"
     },
     "output_type": "display_data"
    },
    {
     "name": "stdout",
     "output_type": "stream",
     "text": [
      "The optimal model selected is: DecisionTreeClassifier()\n",
      "Accuracy of the optimal model: 0.839113811702055\n",
      "Recall of the optimal model: 0.7645251587355772\n"
     ]
    },
    {
     "data": {
      "image/png": "[encoded data removed]",
      "text/plain": [
       "<Figure size 432x288 with 2 Axes>"
      ]
     },
     "metadata": {
      "needs_background": "light"
     },
     "output_type": "display_data"
    }
   ],
   "source": [
    "haulage_aps(arg1 = 0, arg2 = 9e25, arg3 = 0, arg4 = 1)"
   ]
  },
  {
   "cell_type": "markdown",
   "id": "dcec70cf",
   "metadata": {},
   "source": [
    "#### Test 5 - Standardization: No, Imputation: Median, Drop_outliers: No, SMOTE: No"
   ]
  },
  {
   "cell_type": "code",
   "execution_count": 73,
   "id": "16565c69",
   "metadata": {
    "scrolled": false
   },
   "outputs": [
    {
     "name": "stdout",
     "output_type": "stream",
     "text": [
      "Features needed to retain 99.5% of the variance:  3\n",
      "LR: 0.254596 (0.242824)\n",
      "LDA: 0.982164 (0.001724)\n",
      "KNN: 0.982679 (0.001587)\n",
      "CART: 0.980329 (0.001746)\n",
      "NB: 0.255379 (0.241888)\n"
     ]
    },
    {
     "data": {
      "image/png": "[encoded data removed]",
      "text/plain": [
       "<Figure size 432x288 with 1 Axes>"
      ]
     },
     "metadata": {
      "needs_background": "light"
     },
     "output_type": "display_data"
    },
    {
     "name": "stdout",
     "output_type": "stream",
     "text": [
      "The optimal model selected is: KNeighborsClassifier()\n",
      "Accuracy of the optimal model: 0.9818731117824774\n",
      "Recall of the optimal model: 0.25806451612903225\n"
     ]
    },
    {
     "data": {
      "image/png": "[encoded data removed]",
      "text/plain": [
       "<Figure size 432x288 with 2 Axes>"
      ]
     },
     "metadata": {
      "needs_background": "light"
     },
     "output_type": "display_data"
    }
   ],
   "source": [
    "haulage_aps(arg1 = 0, arg2 = 'median', arg3 = 0, arg4 = 0)"
   ]
  },
  {
   "cell_type": "markdown",
   "id": "ae5c5ad3",
   "metadata": {},
   "source": [
    "#### Test 6 - Standardization: Yes, Imputation: 0, Drop_outliers: No, SMOTE: No"
   ]
  },
  {
   "cell_type": "code",
   "execution_count": 74,
   "id": "a5ffae4c",
   "metadata": {
    "scrolled": false
   },
   "outputs": [
    {
     "name": "stdout",
     "output_type": "stream",
     "text": [
      "Features needed to retain 99.5% of the variance:  118\n",
      "LR: 0.991071 (0.001173)\n",
      "LDA: 0.989818 (0.001413)\n",
      "KNN: 0.989728 (0.001299)\n",
      "CART: 0.985834 (0.001297)\n",
      "NB: 0.964328 (0.002136)\n"
     ]
    },
    {
     "data": {
      "image/png": "[encoded data removed]",
      "text/plain": [
       "<Figure size 432x288 with 1 Axes>"
      ]
     },
     "metadata": {
      "needs_background": "light"
     },
     "output_type": "display_data"
    },
    {
     "name": "stdout",
     "output_type": "stream",
     "text": [
      "The optimal model selected is: LogisticRegression(multi_class='ovr', solver='liblinear')\n",
      "Accuracy of the optimal model: 0.9905337361530715\n",
      "Recall of the optimal model: 0.6169354838709677\n"
     ]
    },
    {
     "data": {
      "image/png": "[encoded data removed]",
      "text/plain": [
       "<Figure size 432x288 with 2 Axes>"
      ]
     },
     "metadata": {
      "needs_background": "light"
     },
     "output_type": "display_data"
    }
   ],
   "source": [
    "haulage_aps(arg1 = 1, arg2 = 0, arg3 = 0, arg4 = 0)"
   ]
  },
  {
   "cell_type": "markdown",
   "id": "007b7da0",
   "metadata": {},
   "source": [
    "#### Test 7 - Standardization: Yes, Imputation: Mean, Drop_outliers: No, SMOTE: Yes"
   ]
  },
  {
   "cell_type": "code",
   "execution_count": 75,
   "id": "2a5e9d32",
   "metadata": {
    "scrolled": false
   },
   "outputs": [
    {
     "name": "stdout",
     "output_type": "stream",
     "text": [
      "Features needed to retain 99.5% of the variance:  110\n",
      "LR: 0.960731 (0.001904)\n",
      "LDA: 0.920439 (0.002572)\n",
      "KNN: 0.987540 (0.001095)\n",
      "CART: 0.983114 (0.001242)\n",
      "NB: 0.888953 (0.002961)\n"
     ]
    },
    {
     "data": {
      "image/png": "[encoded data removed]",
      "text/plain": [
       "<Figure size 432x288 with 1 Axes>"
      ]
     },
     "metadata": {
      "needs_background": "light"
     },
     "output_type": "display_data"
    },
    {
     "name": "stdout",
     "output_type": "stream",
     "text": [
      "The optimal model selected is: KNeighborsClassifier()\n",
      "Accuracy of the optimal model: 0.987267017136615\n",
      "Recall of the optimal model: 0.9996586331672015\n"
     ]
    },
    {
     "data": {
      "image/png": "[encoded data removed]",
      "text/plain": [
       "<Figure size 432x288 with 2 Axes>"
      ]
     },
     "metadata": {
      "needs_background": "light"
     },
     "output_type": "display_data"
    }
   ],
   "source": [
    "haulage_aps(arg1 = 1, arg2 = 'median', arg3 = 0, arg4 = 1)"
   ]
  },
  {
   "cell_type": "markdown",
   "id": "18180de8",
   "metadata": {},
   "source": [
    "#### Test 8 - Standardization: No, Imputation: 9e25, Drop_outliers: Yes, SMOTE: Yes"
   ]
  },
  {
   "cell_type": "code",
   "execution_count": 76,
   "id": "86b2bfb7",
   "metadata": {
    "scrolled": false
   },
   "outputs": [
    {
     "name": "stdout",
     "output_type": "stream",
     "text": [
      "Features needed to retain 99.5% of the variance:  4\n",
      "LR: 0.701724 (0.066423)\n",
      "LDA: 0.701724 (0.066423)\n",
      "KNN: 0.735977 (0.110625)\n",
      "CART: 0.698391 (0.062103)\n",
      "NB: 0.701724 (0.066423)\n"
     ]
    },
    {
     "data": {
      "image/png": "[encoded data removed]",
      "text/plain": [
       "<Figure size 432x288 with 1 Axes>"
      ]
     },
     "metadata": {
      "needs_background": "light"
     },
     "output_type": "display_data"
    },
    {
     "name": "stdout",
     "output_type": "stream",
     "text": [
      "The optimal model selected is: KNeighborsClassifier()\n",
      "Accuracy of the optimal model: 0.8061224489795918\n",
      "Recall of the optimal model: 0.7346938775510204\n"
     ]
    },
    {
     "data": {
      "image/png": "[encoded data removed]",
      "text/plain": [
       "<Figure size 432x288 with 2 Axes>"
      ]
     },
     "metadata": {
      "needs_background": "light"
     },
     "output_type": "display_data"
    }
   ],
   "source": [
    "haulage_aps(arg1 = 0, arg2 = 9e25, arg3 = 1, arg4 = 1)"
   ]
  },
  {
   "cell_type": "markdown",
   "id": "960929af",
   "metadata": {},
   "source": [
    "## Resume of results"
   ]
  },
  {
   "cell_type": "code",
   "execution_count": 80,
   "id": "cac8830a",
   "metadata": {},
   "outputs": [
    {
     "name": "stdout",
     "output_type": "stream",
     "text": [
      "The result of each test is found below: \n"
     ]
    },
    {
     "data": {
      "text/html": [
       "<div>\n",
       "<style scoped>\n",
       "    .dataframe tbody tr th:only-of-type {\n",
       "        vertical-align: middle;\n",
       "    }\n",
       "\n",
       "    .dataframe tbody tr th {\n",
       "        vertical-align: top;\n",
       "    }\n",
       "\n",
       "    .dataframe thead th {\n",
       "        text-align: right;\n",
       "    }\n",
       "</style>\n",
       "<table border=\"1\" class=\"dataframe\">\n",
       "  <thead>\n",
       "    <tr style=\"text-align: right;\">\n",
       "      <th></th>\n",
       "      <th>Scaling</th>\n",
       "      <th>Imput</th>\n",
       "      <th>Drop_outliers</th>\n",
       "      <th>SMOTE</th>\n",
       "      <th>Features_PCA</th>\n",
       "      <th>Better_MLModel</th>\n",
       "      <th>Accuracy</th>\n",
       "      <th>Recall</th>\n",
       "    </tr>\n",
       "  </thead>\n",
       "  <tbody>\n",
       "    <tr>\n",
       "      <th>0</th>\n",
       "      <td>No</td>\n",
       "      <td>Median</td>\n",
       "      <td>No</td>\n",
       "      <td>Yes</td>\n",
       "      <td>6</td>\n",
       "      <td>KNeighborsClassifier</td>\n",
       "      <td>0.9699</td>\n",
       "      <td>0.9859</td>\n",
       "    </tr>\n",
       "    <tr>\n",
       "      <th>1</th>\n",
       "      <td>No</td>\n",
       "      <td>Mean</td>\n",
       "      <td>No</td>\n",
       "      <td>Yes</td>\n",
       "      <td>6</td>\n",
       "      <td>DecisionTreeClassifier</td>\n",
       "      <td>0.9762</td>\n",
       "      <td>0.9795</td>\n",
       "    </tr>\n",
       "    <tr>\n",
       "      <th>2</th>\n",
       "      <td>No</td>\n",
       "      <td>Interpolation</td>\n",
       "      <td>No</td>\n",
       "      <td>Yes</td>\n",
       "      <td>5</td>\n",
       "      <td>KNeighborsClassifier</td>\n",
       "      <td>0.9562</td>\n",
       "      <td>0.9718</td>\n",
       "    </tr>\n",
       "    <tr>\n",
       "      <th>3</th>\n",
       "      <td>No</td>\n",
       "      <td>0</td>\n",
       "      <td>No</td>\n",
       "      <td>Yes</td>\n",
       "      <td>6</td>\n",
       "      <td>KNeighborsClassifier</td>\n",
       "      <td>0.9681</td>\n",
       "      <td>0.9827</td>\n",
       "    </tr>\n",
       "    <tr>\n",
       "      <th>4</th>\n",
       "      <td>No</td>\n",
       "      <td>9e25</td>\n",
       "      <td>No</td>\n",
       "      <td>Yes</td>\n",
       "      <td>15</td>\n",
       "      <td>DecisionTreeClassifier</td>\n",
       "      <td>0.8391</td>\n",
       "      <td>0.7645</td>\n",
       "    </tr>\n",
       "    <tr>\n",
       "      <th>5</th>\n",
       "      <td>No</td>\n",
       "      <td>Median</td>\n",
       "      <td>No</td>\n",
       "      <td>No</td>\n",
       "      <td>3</td>\n",
       "      <td>KNeighborsClassifier</td>\n",
       "      <td>0.9818</td>\n",
       "      <td>0.2580</td>\n",
       "    </tr>\n",
       "    <tr>\n",
       "      <th>6</th>\n",
       "      <td>Yes</td>\n",
       "      <td>0</td>\n",
       "      <td>No</td>\n",
       "      <td>No</td>\n",
       "      <td>118</td>\n",
       "      <td>LogisticRegression</td>\n",
       "      <td>0.9905</td>\n",
       "      <td>0.6169</td>\n",
       "    </tr>\n",
       "    <tr>\n",
       "      <th>7</th>\n",
       "      <td>Yes</td>\n",
       "      <td>Median</td>\n",
       "      <td>No</td>\n",
       "      <td>Yes</td>\n",
       "      <td>110</td>\n",
       "      <td>KNeighborsClassifier</td>\n",
       "      <td>0.9872</td>\n",
       "      <td>0.9996</td>\n",
       "    </tr>\n",
       "    <tr>\n",
       "      <th>8</th>\n",
       "      <td>No</td>\n",
       "      <td>9e25</td>\n",
       "      <td>Yes</td>\n",
       "      <td>Yes</td>\n",
       "      <td>4</td>\n",
       "      <td>KNeighborsClassifier</td>\n",
       "      <td>0.8061</td>\n",
       "      <td>0.7346</td>\n",
       "    </tr>\n",
       "  </tbody>\n",
       "</table>\n",
       "</div>"
      ],
      "text/plain": [
       "  Scaling          Imput Drop_outliers SMOTE Features_PCA  \\\n",
       "0      No         Median            No   Yes            6   \n",
       "1      No           Mean            No   Yes            6   \n",
       "2      No  Interpolation            No   Yes            5   \n",
       "3      No              0            No   Yes            6   \n",
       "4      No           9e25            No   Yes           15   \n",
       "5      No         Median            No    No            3   \n",
       "6     Yes              0            No    No          118   \n",
       "7     Yes         Median            No   Yes          110   \n",
       "8      No           9e25           Yes   Yes            4   \n",
       "\n",
       "           Better_MLModel Accuracy  Recall  \n",
       "0    KNeighborsClassifier   0.9699  0.9859  \n",
       "1  DecisionTreeClassifier   0.9762  0.9795  \n",
       "2    KNeighborsClassifier   0.9562  0.9718  \n",
       "3    KNeighborsClassifier   0.9681  0.9827  \n",
       "4  DecisionTreeClassifier   0.8391  0.7645  \n",
       "5    KNeighborsClassifier   0.9818  0.2580  \n",
       "6      LogisticRegression   0.9905  0.6169  \n",
       "7    KNeighborsClassifier   0.9872  0.9996  \n",
       "8    KNeighborsClassifier   0.8061  0.7346  "
      ]
     },
     "execution_count": 80,
     "metadata": {},
     "output_type": "execute_result"
    }
   ],
   "source": [
    "test0 = ['6', 'KNeighborsClassifier', '0.9699', '0.9859']\n",
    "test1 = ['6', 'DecisionTreeClassifier', '0.9762', '0.9795']\n",
    "test2 = ['5', 'KNeighborsClassifier', '0.9562', '0.9718']\n",
    "test3 = ['6', 'KNeighborsClassifier', '0.9681', '0.9827']\n",
    "test4 = ['15','DecisionTreeClassifier', '0.8391', '0.7645']\n",
    "test5 = ['3', 'KNeighborsClassifier', '0.9818', '0.2580']\n",
    "test6 = ['118', 'LogisticRegression', '0.9905', '0.6169']\n",
    "test7 = ['110', 'KNeighborsClassifier', '0.9872', '0.9996']\n",
    "test8 = ['4', 'KNeighborsClassifier', '0.8061', '0.7346']\n",
    "tests = [test0, test1, test2, test3, test4, test5, test6, test7, test8]\n",
    "teste_pd = pd.DataFrame(tests, columns = ['Features_PCA','Better_MLModel', 'Accuracy', 'Recall'])\n",
    "Testes['Features_PCA'] = teste_pd['Features_PCA']\n",
    "Testes['Better_MLModel'] = teste_pd['Better_MLModel']\n",
    "Testes['Accuracy']= teste_pd['Accuracy']\n",
    "Testes['Recall'] = teste_pd['Recall']\n",
    "print(\"The result of each test is found below: \")\n",
    "Testes"
   ]
  },
  {
   "cell_type": "markdown",
   "id": "d616bd3b",
   "metadata": {},
   "source": [
    "# 10- Conclusions"
   ]
  },
  {
   "cell_type": "markdown",
   "id": "e66bc257",
   "metadata": {},
   "source": [
    "<div style=\"text-align: justify\">As it is possible to verify through the chart above, different methods will lead to different results regarding to the method PCA to reduction of features. Up to a certain point, it is possible to reach very reliable results reducing the number of feature from 162 to only 5 or 6, as it is seen on rows 0 to 3, on which after reducing the dataset to the amount of features indicated by the method PCA and applying a machine learning method to the problem of classification, results of both accurary and recall go over 95%. Furthermore, the sequence of tests also show that having more features is not a straightforward indicator that more accurate models can be built. For instance, both test 4 and 6 are worse models than the previous stated, althout they both have more features remaining. <br>\n",
    "\n",
    "The best test executed was the standard test applied on the body of the report, before the creation of the function, which is represented by test 7, on which scaling was applied, null values were replace by median and the PCA reduced the dataset to 110 features. In this case, after applying Machine Learning Models on the Dataset, the model got an accuracy of 98.72% and a recall of 99.96%. Although this is the best model found, the second position stays between test 0 and test 1. On test 0, without standardization of the dataset, the PCA method was able to reduce the number of features to only 6, and a Machine Learning Model built with this only 6 features was able to predict fails on the APS system with an accucary of 96.99% and a recall of 98.59%. It is possible to verify that reducing the features in almost 95% (from 110 to 6) has only made a difference of near 2% in the accuracy and near 1% in the recall of a Machine Learn Model. <br>\n",
    "    \n",
    "Another significant difference between test 0 and 7 is their running time to find the final results. While test 0 find the better fit for all the models applied in around 20 seconds, test 7 takes up to 4 minutes, basing this results in the computer where this report was written. Machine Learn Models take 10 times more time to solve the classification problema in test 7 than in test 0. The difference in this case does not impede any real application, because the problem analysed is simple and the dataset it resonably small. However, with a bigger amount of data within more complex problems, accuracy and recall could be sacrificed a little, in order to obtain faster models to run. <br>\n",
    "\n",
    "It is possible to verify that treating the dataset exactly as it is, only concluding the step of cleaning the dataset and imputating missing values, as it is observed in test 5, leads to the biggest reduction of features through PCA, bringing the dataset down to only 3 features after application of PCA Method. This test obtained a good Accuracy, however it presented a very low Recall. This happens because the highly unbalanced characteristic of the dataset makes the machine learning model predicts correctly a good percentages of true negatives, however it looses its capability of identifying correctly true positives.<br>\n",
    "\n",
    "To conclude, different decisions regarding the path to analyse the dataset will change the amount of features needed to retain 99.5% of variance in this dataset. The optimal solution in this case used 110 features to retain 99.5%. Nevertheless, a only slightly worse model was obtained with a different method in which only 6 features were able to reatin 99.5% of the variance in the dataset.</div>"
   ]
  },
  {
   "cell_type": "markdown",
   "id": "4bd3750d",
   "metadata": {},
   "source": [
    "# 11- References"
   ]
  },
  {
   "cell_type": "markdown",
   "id": "19d41f71",
   "metadata": {},
   "source": [
    "<div style=\"text-align: justify\">\n",
    "1- Martin (2021). Finding invalid values in numerical columns. [online] Drawing from Data. Available at: https://drawingfromdata.com/pandas/dtypes/finding-invalid-values-in-numerical-columns.html.<br><br>\n",
    "\n",
    "2- Stack Overflow. (n.d.). python - pandas: to_numeric for multiple columns. [online] Available at: https://stackoverflow.com/questions/36814100/pandas-to-numeric-for-multiple-columns [Accessed 12 Apr. 2023].<br><br>\n",
    "\n",
    "3- Zach (2022). How to Test for Normality in Python (4 Methods). [online] Statology. Available at: https://www.statology.org/normality-test-python/ [Accessed 12 Apr. 2023].<br><br>\n",
    "\n",
    "4- Gupta, A., Mishra, P., Pandey, C., Singh, U., Sahu, C. and Keshri, A. (2019). Descriptive Statistics and Normality Tests for Statistical Data. Annals of Cardiac Anaesthesia, [online] 22(1), p.67. doi:https://doi.org/10.4103%2Faca.ACA_157_18.\n",
    "</div>"
   ]
  },
  {
   "cell_type": "markdown",
   "id": "157d9b12",
   "metadata": {},
   "source": [
    "# 12- The Curse of Dimensionality"
   ]
  },
  {
   "cell_type": "markdown",
   "id": "08156a3a",
   "metadata": {},
   "source": [
    "<div style=\"text-align: justify\"> The curse of dimensionality comes from the fact that the amount of observations required to create meaningful models to describe real phenomena increase exponencialy with the number of features used to describe a phenomena. Another situation is that as much dimensions a problem takes into consideration, the power for processing this data by a machine also increases.<br>\n",
    "    Data are facts within a context. Usually facts are gathered and stored as data to one understand how these information influence in some outcomes. When analysing data, algorithms are trying to discover the best mathematical model to describe patterns within the data, in other words, how facts influence outcomes. This is seek so that the situations (or facts) can be manipulated in order to change the outcomes according to interests. Each independent feature carries an influence of the mathematical model that should describe a pattern, or a phenomenum, hidden within the data. However, it also carries noise, which is random information present in any information gathered by experimentation on the real world. \n",
    "    <br>When one is trying do describe a pattern through a mathematical model, it should not be interested on describing the noise present on the information. Models that try to be too complex to fit every single information in a dataset may incur in overfitting. Overfitting means that the model does describe the data studied, but it does not describe the pattern within thedata, thus, the model looses its important ability to generalize. Consequently, this model does not provide insights of how manipulating the facts changes the outcome in a general manner. Said that, there is an optimal amount of information the should be considered to describe a pattern. Using more information than necessary will degrade a model and consume unnecessary processing power to describe information that are actually noise. Nevertheless, it is important to do not make models too simplistic, what would incur in a problem of underfitting, in which lack of information gerenates a poor description of a pattern. \n",
    "    <br>The curse of dimensionality is an issue about how much is the ideal amount of information to describe fact as deep as required.</div>"
   ]
  },
  {
   "cell_type": "code",
   "execution_count": null,
   "id": "86edc22e",
   "metadata": {},
   "outputs": [],
   "source": []
  }
 ],
 "metadata": {
  "kernelspec": {
   "display_name": "Python 3 (ipykernel)",
   "language": "python",
   "name": "python3"
  },
  "language_info": {
   "codemirror_mode": {
    "name": "ipython",
    "version": 3
   },
   "file_extension": ".py",
   "mimetype": "text/x-python",
   "name": "python",
   "nbconvert_exporter": "python",
   "pygments_lexer": "ipython3",
   "version": "3.9.18"
  }
 },
 "nbformat": 4,
 "nbformat_minor": 5
}
